{
 "cells": [
  {
   "cell_type": "markdown",
   "id": "04601908",
   "metadata": {},
   "source": [
    "# Introduction\n",
    "The nobel prizes are awarded annually to individuals and organizations who make outstanding contributions in the fields of chemistry, physics, literature, peace, and physiology or medicine. The first Prize was awarded in in 1901.\n",
    "In this project we will find out more about nobel prozes, like what are the winners characteristics? How many winners awarded in a year? Which country gets the prize most often? Is there any winners gotten it twice? and more. The data set is used from kaggle \n",
    "We will try to answer these questions during our analysis:\n",
    "1. The most Nobel of Prizes\n",
    "2. who gets the Nobel Prize?\n",
    "3. USA dominance\n",
    "4. USA dominance, visualized\n",
    "5. What is the gender of a typical Nobel Prize winner?\n",
    "6. The first woman to win the Nobel Prize\n",
    "7. Repeat laureates\n",
    "8. How old are you when you get the prize?\n",
    "9. Age differences between prize categories\n",
    "10. Oldest and youngest winners\n"
   ]
  },
  {
   "cell_type": "code",
   "execution_count": 26,
   "id": "7703b34b",
   "metadata": {},
   "outputs": [],
   "source": [
    "#First we need to import all nessary libraries \n",
    "import pandas as pd\n",
    "import requests\n",
    "import json\n",
    "from bs4 import BeautifulSoup\n",
    "import plotly.graph_objects as go\n",
    "from plotly.subplots import make_subplots\n",
    "import html5lib\n",
    "# for visualizations\n",
    "import matplotlib.pyplot as plt\n",
    "import seaborn as sns\n",
    "import missingno as msno\n",
    "# import map libraries\n",
    "import plotly.express as px\n"
   ]
  },
  {
   "cell_type": "code",
   "execution_count": 4,
   "id": "cc182d9b",
   "metadata": {},
   "outputs": [
    {
     "data": {
      "text/html": [
       "<div>\n",
       "<style scoped>\n",
       "    .dataframe tbody tr th:only-of-type {\n",
       "        vertical-align: middle;\n",
       "    }\n",
       "\n",
       "    .dataframe tbody tr th {\n",
       "        vertical-align: top;\n",
       "    }\n",
       "\n",
       "    .dataframe thead th {\n",
       "        text-align: right;\n",
       "    }\n",
       "</style>\n",
       "<table border=\"1\" class=\"dataframe\">\n",
       "  <thead>\n",
       "    <tr style=\"text-align: right;\">\n",
       "      <th></th>\n",
       "      <th>Year</th>\n",
       "      <th>Category</th>\n",
       "      <th>Prize</th>\n",
       "      <th>Motivation</th>\n",
       "      <th>Prize Share</th>\n",
       "      <th>Laureate ID</th>\n",
       "      <th>Laureate Type</th>\n",
       "      <th>Full Name</th>\n",
       "      <th>Birth Date</th>\n",
       "      <th>Birth City</th>\n",
       "      <th>Birth Country</th>\n",
       "      <th>Sex</th>\n",
       "      <th>Organization Name</th>\n",
       "      <th>Organization City</th>\n",
       "      <th>Organization Country</th>\n",
       "      <th>Death Date</th>\n",
       "      <th>Death City</th>\n",
       "      <th>Death Country</th>\n",
       "    </tr>\n",
       "  </thead>\n",
       "  <tbody>\n",
       "    <tr>\n",
       "      <th>0</th>\n",
       "      <td>1901</td>\n",
       "      <td>Chemistry</td>\n",
       "      <td>The Nobel Prize in Chemistry 1901</td>\n",
       "      <td>\"in recognition of the extraordinary services ...</td>\n",
       "      <td>1/1</td>\n",
       "      <td>160</td>\n",
       "      <td>Individual</td>\n",
       "      <td>Jacobus Henricus van 't Hoff</td>\n",
       "      <td>1852-08-30</td>\n",
       "      <td>Rotterdam</td>\n",
       "      <td>Netherlands</td>\n",
       "      <td>Male</td>\n",
       "      <td>Berlin University</td>\n",
       "      <td>Berlin</td>\n",
       "      <td>Germany</td>\n",
       "      <td>1911-03-01</td>\n",
       "      <td>Berlin</td>\n",
       "      <td>Germany</td>\n",
       "    </tr>\n",
       "    <tr>\n",
       "      <th>1</th>\n",
       "      <td>1901</td>\n",
       "      <td>Literature</td>\n",
       "      <td>The Nobel Prize in Literature 1901</td>\n",
       "      <td>\"in special recognition of his poetic composit...</td>\n",
       "      <td>1/1</td>\n",
       "      <td>569</td>\n",
       "      <td>Individual</td>\n",
       "      <td>Sully Prudhomme</td>\n",
       "      <td>1839-03-16</td>\n",
       "      <td>Paris</td>\n",
       "      <td>France</td>\n",
       "      <td>Male</td>\n",
       "      <td>NaN</td>\n",
       "      <td>NaN</td>\n",
       "      <td>NaN</td>\n",
       "      <td>1907-09-07</td>\n",
       "      <td>Châtenay</td>\n",
       "      <td>France</td>\n",
       "    </tr>\n",
       "    <tr>\n",
       "      <th>2</th>\n",
       "      <td>1901</td>\n",
       "      <td>Medicine</td>\n",
       "      <td>The Nobel Prize in Physiology or Medicine 1901</td>\n",
       "      <td>\"for his work on serum therapy, especially its...</td>\n",
       "      <td>1/1</td>\n",
       "      <td>293</td>\n",
       "      <td>Individual</td>\n",
       "      <td>Emil Adolf von Behring</td>\n",
       "      <td>1854-03-15</td>\n",
       "      <td>Hansdorf (Lawice)</td>\n",
       "      <td>Prussia (Poland)</td>\n",
       "      <td>Male</td>\n",
       "      <td>Marburg University</td>\n",
       "      <td>Marburg</td>\n",
       "      <td>Germany</td>\n",
       "      <td>1917-03-31</td>\n",
       "      <td>Marburg</td>\n",
       "      <td>Germany</td>\n",
       "    </tr>\n",
       "  </tbody>\n",
       "</table>\n",
       "</div>"
      ],
      "text/plain": [
       "   Year    Category                                           Prize  \\\n",
       "0  1901   Chemistry               The Nobel Prize in Chemistry 1901   \n",
       "1  1901  Literature              The Nobel Prize in Literature 1901   \n",
       "2  1901    Medicine  The Nobel Prize in Physiology or Medicine 1901   \n",
       "\n",
       "                                          Motivation Prize Share  Laureate ID  \\\n",
       "0  \"in recognition of the extraordinary services ...         1/1          160   \n",
       "1  \"in special recognition of his poetic composit...         1/1          569   \n",
       "2  \"for his work on serum therapy, especially its...         1/1          293   \n",
       "\n",
       "  Laureate Type                     Full Name  Birth Date         Birth City  \\\n",
       "0    Individual  Jacobus Henricus van 't Hoff  1852-08-30          Rotterdam   \n",
       "1    Individual               Sully Prudhomme  1839-03-16              Paris   \n",
       "2    Individual        Emil Adolf von Behring  1854-03-15  Hansdorf (Lawice)   \n",
       "\n",
       "      Birth Country   Sex   Organization Name Organization City  \\\n",
       "0       Netherlands  Male   Berlin University            Berlin   \n",
       "1            France  Male                 NaN               NaN   \n",
       "2  Prussia (Poland)  Male  Marburg University           Marburg   \n",
       "\n",
       "  Organization Country  Death Date Death City Death Country  \n",
       "0              Germany  1911-03-01     Berlin       Germany  \n",
       "1                  NaN  1907-09-07   Châtenay        France  \n",
       "2              Germany  1917-03-31    Marburg       Germany  "
      ]
     },
     "execution_count": 4,
     "metadata": {},
     "output_type": "execute_result"
    }
   ],
   "source": [
    "#read the csv file and save it in dataframe\n",
    "data = pd.read_csv('archive 2.csv')\n",
    "data.head(3)"
   ]
  },
  {
   "cell_type": "markdown",
   "id": "8ccf3908",
   "metadata": {},
   "source": [
    "# Exploratory Analysis\n"
   ]
  },
  {
   "cell_type": "code",
   "execution_count": 5,
   "id": "98cbff5f",
   "metadata": {},
   "outputs": [
    {
     "data": {
      "text/plain": [
       "(969, 18)"
      ]
     },
     "execution_count": 5,
     "metadata": {},
     "output_type": "execute_result"
    }
   ],
   "source": [
    "#check the number of data\n",
    "data.shape"
   ]
  },
  {
   "cell_type": "code",
   "execution_count": 6,
   "id": "983b7827",
   "metadata": {},
   "outputs": [
    {
     "data": {
      "text/plain": [
       "17442"
      ]
     },
     "execution_count": 6,
     "metadata": {},
     "output_type": "execute_result"
    }
   ],
   "source": [
    "data.size"
   ]
  },
  {
   "cell_type": "code",
   "execution_count": 7,
   "id": "6d918a20",
   "metadata": {},
   "outputs": [
    {
     "name": "stdout",
     "output_type": "stream",
     "text": [
      "<class 'pandas.core.frame.DataFrame'>\n",
      "RangeIndex: 969 entries, 0 to 968\n",
      "Data columns (total 18 columns):\n",
      " #   Column                Non-Null Count  Dtype \n",
      "---  ------                --------------  ----- \n",
      " 0   Year                  969 non-null    int64 \n",
      " 1   Category              969 non-null    object\n",
      " 2   Prize                 969 non-null    object\n",
      " 3   Motivation            881 non-null    object\n",
      " 4   Prize Share           969 non-null    object\n",
      " 5   Laureate ID           969 non-null    int64 \n",
      " 6   Laureate Type         969 non-null    object\n",
      " 7   Full Name             969 non-null    object\n",
      " 8   Birth Date            940 non-null    object\n",
      " 9   Birth City            941 non-null    object\n",
      " 10  Birth Country         943 non-null    object\n",
      " 11  Sex                   943 non-null    object\n",
      " 12  Organization Name     722 non-null    object\n",
      " 13  Organization City     716 non-null    object\n",
      " 14  Organization Country  716 non-null    object\n",
      " 15  Death Date            617 non-null    object\n",
      " 16  Death City            599 non-null    object\n",
      " 17  Death Country         605 non-null    object\n",
      "dtypes: int64(2), object(16)\n",
      "memory usage: 136.4+ KB\n"
     ]
    }
   ],
   "source": [
    "#check the data types \n",
    "data.info()"
   ]
  },
  {
   "cell_type": "code",
   "execution_count": 8,
   "id": "d502bf79",
   "metadata": {},
   "outputs": [
    {
     "data": {
      "text/html": [
       "<div>\n",
       "<style scoped>\n",
       "    .dataframe tbody tr th:only-of-type {\n",
       "        vertical-align: middle;\n",
       "    }\n",
       "\n",
       "    .dataframe tbody tr th {\n",
       "        vertical-align: top;\n",
       "    }\n",
       "\n",
       "    .dataframe thead th {\n",
       "        text-align: right;\n",
       "    }\n",
       "</style>\n",
       "<table border=\"1\" class=\"dataframe\">\n",
       "  <thead>\n",
       "    <tr style=\"text-align: right;\">\n",
       "      <th></th>\n",
       "      <th>Year</th>\n",
       "      <th>Laureate ID</th>\n",
       "    </tr>\n",
       "  </thead>\n",
       "  <tbody>\n",
       "    <tr>\n",
       "      <th>count</th>\n",
       "      <td>969.000000</td>\n",
       "      <td>969.000000</td>\n",
       "    </tr>\n",
       "    <tr>\n",
       "      <th>mean</th>\n",
       "      <td>1970.287926</td>\n",
       "      <td>470.152735</td>\n",
       "    </tr>\n",
       "    <tr>\n",
       "      <th>std</th>\n",
       "      <td>32.937498</td>\n",
       "      <td>274.586623</td>\n",
       "    </tr>\n",
       "    <tr>\n",
       "      <th>min</th>\n",
       "      <td>1901.000000</td>\n",
       "      <td>1.000000</td>\n",
       "    </tr>\n",
       "    <tr>\n",
       "      <th>25%</th>\n",
       "      <td>1947.000000</td>\n",
       "      <td>230.000000</td>\n",
       "    </tr>\n",
       "    <tr>\n",
       "      <th>50%</th>\n",
       "      <td>1976.000000</td>\n",
       "      <td>462.000000</td>\n",
       "    </tr>\n",
       "    <tr>\n",
       "      <th>75%</th>\n",
       "      <td>1999.000000</td>\n",
       "      <td>718.000000</td>\n",
       "    </tr>\n",
       "    <tr>\n",
       "      <th>max</th>\n",
       "      <td>2016.000000</td>\n",
       "      <td>937.000000</td>\n",
       "    </tr>\n",
       "  </tbody>\n",
       "</table>\n",
       "</div>"
      ],
      "text/plain": [
       "              Year  Laureate ID\n",
       "count   969.000000   969.000000\n",
       "mean   1970.287926   470.152735\n",
       "std      32.937498   274.586623\n",
       "min    1901.000000     1.000000\n",
       "25%    1947.000000   230.000000\n",
       "50%    1976.000000   462.000000\n",
       "75%    1999.000000   718.000000\n",
       "max    2016.000000   937.000000"
      ]
     },
     "execution_count": 8,
     "metadata": {},
     "output_type": "execute_result"
    }
   ],
   "source": [
    "#We can find out about some quick statistics about the data with \n",
    "data.describe()"
   ]
  },
  {
   "cell_type": "code",
   "execution_count": 9,
   "id": "681acc77",
   "metadata": {},
   "outputs": [
    {
     "data": {
      "text/plain": [
       "0"
      ]
     },
     "execution_count": 9,
     "metadata": {},
     "output_type": "execute_result"
    }
   ],
   "source": [
    "#Find if there is any duplicates\n",
    "data.duplicated().sum()"
   ]
  },
  {
   "cell_type": "code",
   "execution_count": 10,
   "id": "97f253b0",
   "metadata": {},
   "outputs": [
    {
     "data": {
      "text/plain": [
       "Year                      0\n",
       "Category                  0\n",
       "Prize                     0\n",
       "Motivation               88\n",
       "Prize Share               0\n",
       "Laureate ID               0\n",
       "Laureate Type             0\n",
       "Full Name                 0\n",
       "Birth Date               29\n",
       "Birth City               28\n",
       "Birth Country            26\n",
       "Sex                      26\n",
       "Organization Name       247\n",
       "Organization City       253\n",
       "Organization Country    253\n",
       "Death Date              352\n",
       "Death City              370\n",
       "Death Country           364\n",
       "dtype: int64"
      ]
     },
     "execution_count": 10,
     "metadata": {},
     "output_type": "execute_result"
    }
   ],
   "source": [
    "# Check for non values\n",
    "data.isnull().sum()"
   ]
  },
  {
   "cell_type": "markdown",
   "id": "feaeb791",
   "metadata": {},
   "source": [
    "# Let is find the most Nobel of Prizes\n"
   ]
  },
  {
   "cell_type": "code",
   "execution_count": 11,
   "id": "f60b4d0c",
   "metadata": {},
   "outputs": [
    {
     "data": {
      "text/plain": [
       "Medicine      227\n",
       "Physics       222\n",
       "Chemistry     194\n",
       "Peace         130\n",
       "Literature    113\n",
       "Economics      83\n",
       "Name: Category, dtype: int64"
      ]
     },
     "execution_count": 11,
     "metadata": {},
     "output_type": "execute_result"
    }
   ],
   "source": [
    "data['Category'].value_counts()"
   ]
  },
  {
   "cell_type": "markdown",
   "id": "f6b3da69",
   "metadata": {},
   "source": [
    "From this we can say that the most prizes are awarded in <b> Medicine </b> field."
   ]
  },
  {
   "cell_type": "markdown",
   "id": "c16da33c",
   "metadata": {},
   "source": [
    "# Who gets the Nobel Prize?"
   ]
  },
  {
   "cell_type": "code",
   "execution_count": 12,
   "id": "4967acf8",
   "metadata": {},
   "outputs": [
    {
     "data": {
      "text/plain": [
       "Individual      939\n",
       "Organization     30\n",
       "Name: Laureate Type, dtype: int64"
      ]
     },
     "execution_count": 12,
     "metadata": {},
     "output_type": "execute_result"
    }
   ],
   "source": [
    "data['Laureate Type'].value_counts()"
   ]
  },
  {
   "cell_type": "markdown",
   "id": "36310692",
   "metadata": {},
   "source": [
    "This is shows that the Nobel Prize is awarded either to <b> individuals </b> or an <b> organizations </b>."
   ]
  },
  {
   "cell_type": "markdown",
   "id": "916b6790",
   "metadata": {},
   "source": [
    "# USA dominance"
   ]
  },
  {
   "cell_type": "code",
   "execution_count": 13,
   "id": "ee37470f",
   "metadata": {},
   "outputs": [
    {
     "data": {
      "text/plain": [
       "United States of America    276\n",
       "United Kingdom               88\n",
       "Germany                      70\n",
       "France                       53\n",
       "Sweden                       30\n",
       "Japan                        29\n",
       "Russia                       20\n",
       "Netherlands                  19\n",
       "Canada                       18\n",
       "Italy                        18\n",
       "Name: Birth Country, dtype: int64"
      ]
     },
     "execution_count": 13,
     "metadata": {},
     "output_type": "execute_result"
    }
   ],
   "source": [
    "data['Birth Country'].value_counts().head(10)"
   ]
  },
  {
   "cell_type": "markdown",
   "id": "3ac86d1b",
   "metadata": {},
   "source": [
    "***** The majority of Prize winners are born in the USA  "
   ]
  },
  {
   "cell_type": "markdown",
   "id": "bef16b16",
   "metadata": {},
   "source": [
    "# What is the gender of a typical Nobel Prize winner?"
   ]
  },
  {
   "cell_type": "code",
   "execution_count": 14,
   "id": "d4bd3909",
   "metadata": {},
   "outputs": [
    {
     "data": {
      "text/plain": [
       "Male      893\n",
       "Female     50\n",
       "Name: Sex, dtype: int64"
      ]
     },
     "execution_count": 14,
     "metadata": {},
     "output_type": "execute_result"
    }
   ],
   "source": [
    "Gender_count = data['Sex'].value_counts()\n",
    "Gender_count"
   ]
  },
  {
   "cell_type": "markdown",
   "id": "f3797361",
   "metadata": {},
   "source": [
    "Its not suprised that the most prizes awarded to male than female, as the first Nobel Prize was handed out in 1901, and at that time the prize was male-focused."
   ]
  },
  {
   "cell_type": "code",
   "execution_count": 15,
   "id": "3bbcc3ad",
   "metadata": {},
   "outputs": [
    {
     "data": {
      "image/png": "[encoded data removed]",
      "text/plain": [
       "<Figure size 640x480 with 1 Axes>"
      ]
     },
     "metadata": {},
     "output_type": "display_data"
    }
   ],
   "source": [
    "# Create a bar chart\n",
    "plt.bar(Gender_count.index, Gender_count.values)\n",
    "# add chart title and axis labels\n",
    "plt.title(\"Gender Distribution of Nobel Prize Winners\")\n",
    "plt.xlabel(\"Gender\")\n",
    "plt.ylabel(\"Number of Winners\")\n",
    "# show the chart\n",
    "plt.show()"
   ]
  },
  {
   "cell_type": "markdown",
   "id": "a933d167",
   "metadata": {},
   "source": [
    "# The first woman to win the Nobel Prize"
   ]
  },
  {
   "cell_type": "code",
   "execution_count": 16,
   "id": "237ba517",
   "metadata": {},
   "outputs": [],
   "source": [
    "# Find all female winners\n",
    "data[\"female_winner\"] = data[\"Sex\"]==\"Female\""
   ]
  },
  {
   "cell_type": "code",
   "execution_count": 17,
   "id": "371ec38b",
   "metadata": {},
   "outputs": [
    {
     "data": {
      "text/html": [
       "<div>\n",
       "<style scoped>\n",
       "    .dataframe tbody tr th:only-of-type {\n",
       "        vertical-align: middle;\n",
       "    }\n",
       "\n",
       "    .dataframe tbody tr th {\n",
       "        vertical-align: top;\n",
       "    }\n",
       "\n",
       "    .dataframe thead th {\n",
       "        text-align: right;\n",
       "    }\n",
       "</style>\n",
       "<table border=\"1\" class=\"dataframe\">\n",
       "  <thead>\n",
       "    <tr style=\"text-align: right;\">\n",
       "      <th></th>\n",
       "      <th>Year</th>\n",
       "      <th>Category</th>\n",
       "      <th>Prize</th>\n",
       "      <th>Motivation</th>\n",
       "      <th>Prize Share</th>\n",
       "      <th>Laureate ID</th>\n",
       "      <th>Laureate Type</th>\n",
       "      <th>Full Name</th>\n",
       "      <th>Birth Date</th>\n",
       "      <th>Birth City</th>\n",
       "      <th>Birth Country</th>\n",
       "      <th>Sex</th>\n",
       "      <th>Organization Name</th>\n",
       "      <th>Organization City</th>\n",
       "      <th>Organization Country</th>\n",
       "      <th>Death Date</th>\n",
       "      <th>Death City</th>\n",
       "      <th>Death Country</th>\n",
       "      <th>female_winner</th>\n",
       "    </tr>\n",
       "  </thead>\n",
       "  <tbody>\n",
       "    <tr>\n",
       "      <th>19</th>\n",
       "      <td>1903</td>\n",
       "      <td>Physics</td>\n",
       "      <td>The Nobel Prize in Physics 1903</td>\n",
       "      <td>\"in recognition of the extraordinary services ...</td>\n",
       "      <td>1/4</td>\n",
       "      <td>6</td>\n",
       "      <td>Individual</td>\n",
       "      <td>Marie Curie, née Sklodowska</td>\n",
       "      <td>1867-11-07</td>\n",
       "      <td>Warsaw</td>\n",
       "      <td>Russian Empire (Poland)</td>\n",
       "      <td>Female</td>\n",
       "      <td>NaN</td>\n",
       "      <td>NaN</td>\n",
       "      <td>NaN</td>\n",
       "      <td>1934-07-04</td>\n",
       "      <td>Sallanches</td>\n",
       "      <td>France</td>\n",
       "      <td>True</td>\n",
       "    </tr>\n",
       "    <tr>\n",
       "      <th>29</th>\n",
       "      <td>1905</td>\n",
       "      <td>Peace</td>\n",
       "      <td>The Nobel Peace Prize 1905</td>\n",
       "      <td>NaN</td>\n",
       "      <td>1/1</td>\n",
       "      <td>468</td>\n",
       "      <td>Individual</td>\n",
       "      <td>Baroness Bertha Sophie Felicita von Suttner, n...</td>\n",
       "      <td>1843-06-09</td>\n",
       "      <td>Prague</td>\n",
       "      <td>Austrian Empire (Czech Republic)</td>\n",
       "      <td>Female</td>\n",
       "      <td>NaN</td>\n",
       "      <td>NaN</td>\n",
       "      <td>NaN</td>\n",
       "      <td>1914-06-21</td>\n",
       "      <td>Vienna</td>\n",
       "      <td>Austria</td>\n",
       "      <td>True</td>\n",
       "    </tr>\n",
       "    <tr>\n",
       "      <th>52</th>\n",
       "      <td>1909</td>\n",
       "      <td>Literature</td>\n",
       "      <td>The Nobel Prize in Literature 1909</td>\n",
       "      <td>\"in appreciation of the lofty idealism, vivid ...</td>\n",
       "      <td>1/1</td>\n",
       "      <td>579</td>\n",
       "      <td>Individual</td>\n",
       "      <td>Selma Ottilia Lovisa Lagerlöf</td>\n",
       "      <td>1858-11-20</td>\n",
       "      <td>Mårbacka</td>\n",
       "      <td>Sweden</td>\n",
       "      <td>Female</td>\n",
       "      <td>NaN</td>\n",
       "      <td>NaN</td>\n",
       "      <td>NaN</td>\n",
       "      <td>1940-03-16</td>\n",
       "      <td>Mårbacka</td>\n",
       "      <td>Sweden</td>\n",
       "      <td>True</td>\n",
       "    </tr>\n",
       "    <tr>\n",
       "      <th>63</th>\n",
       "      <td>1911</td>\n",
       "      <td>Chemistry</td>\n",
       "      <td>The Nobel Prize in Chemistry 1911</td>\n",
       "      <td>\"in recognition of her services to the advance...</td>\n",
       "      <td>1/1</td>\n",
       "      <td>6</td>\n",
       "      <td>Individual</td>\n",
       "      <td>Marie Curie, née Sklodowska</td>\n",
       "      <td>1867-11-07</td>\n",
       "      <td>Warsaw</td>\n",
       "      <td>Russian Empire (Poland)</td>\n",
       "      <td>Female</td>\n",
       "      <td>Sorbonne University</td>\n",
       "      <td>Paris</td>\n",
       "      <td>France</td>\n",
       "      <td>1934-07-04</td>\n",
       "      <td>Sallanches</td>\n",
       "      <td>France</td>\n",
       "      <td>True</td>\n",
       "    </tr>\n",
       "    <tr>\n",
       "      <th>129</th>\n",
       "      <td>1926</td>\n",
       "      <td>Literature</td>\n",
       "      <td>The Nobel Prize in Literature 1926</td>\n",
       "      <td>\"for her idealistically inspired writings whic...</td>\n",
       "      <td>1/1</td>\n",
       "      <td>597</td>\n",
       "      <td>Individual</td>\n",
       "      <td>Grazia Deledda</td>\n",
       "      <td>1871-09-27</td>\n",
       "      <td>Nuoro, Sardinia</td>\n",
       "      <td>Italy</td>\n",
       "      <td>Female</td>\n",
       "      <td>NaN</td>\n",
       "      <td>NaN</td>\n",
       "      <td>NaN</td>\n",
       "      <td>1936-08-15</td>\n",
       "      <td>Rome</td>\n",
       "      <td>Italy</td>\n",
       "      <td>True</td>\n",
       "    </tr>\n",
       "  </tbody>\n",
       "</table>\n",
       "</div>"
      ],
      "text/plain": [
       "     Year    Category                               Prize  \\\n",
       "19   1903     Physics     The Nobel Prize in Physics 1903   \n",
       "29   1905       Peace          The Nobel Peace Prize 1905   \n",
       "52   1909  Literature  The Nobel Prize in Literature 1909   \n",
       "63   1911   Chemistry   The Nobel Prize in Chemistry 1911   \n",
       "129  1926  Literature  The Nobel Prize in Literature 1926   \n",
       "\n",
       "                                            Motivation Prize Share  \\\n",
       "19   \"in recognition of the extraordinary services ...         1/4   \n",
       "29                                                 NaN         1/1   \n",
       "52   \"in appreciation of the lofty idealism, vivid ...         1/1   \n",
       "63   \"in recognition of her services to the advance...         1/1   \n",
       "129  \"for her idealistically inspired writings whic...         1/1   \n",
       "\n",
       "     Laureate ID Laureate Type  \\\n",
       "19             6    Individual   \n",
       "29           468    Individual   \n",
       "52           579    Individual   \n",
       "63             6    Individual   \n",
       "129          597    Individual   \n",
       "\n",
       "                                             Full Name  Birth Date  \\\n",
       "19                         Marie Curie, née Sklodowska  1867-11-07   \n",
       "29   Baroness Bertha Sophie Felicita von Suttner, n...  1843-06-09   \n",
       "52                       Selma Ottilia Lovisa Lagerlöf  1858-11-20   \n",
       "63                         Marie Curie, née Sklodowska  1867-11-07   \n",
       "129                                     Grazia Deledda  1871-09-27   \n",
       "\n",
       "          Birth City                     Birth Country     Sex  \\\n",
       "19            Warsaw           Russian Empire (Poland)  Female   \n",
       "29            Prague  Austrian Empire (Czech Republic)  Female   \n",
       "52          Mårbacka                            Sweden  Female   \n",
       "63            Warsaw           Russian Empire (Poland)  Female   \n",
       "129  Nuoro, Sardinia                             Italy  Female   \n",
       "\n",
       "       Organization Name Organization City Organization Country  Death Date  \\\n",
       "19                   NaN               NaN                  NaN  1934-07-04   \n",
       "29                   NaN               NaN                  NaN  1914-06-21   \n",
       "52                   NaN               NaN                  NaN  1940-03-16   \n",
       "63   Sorbonne University             Paris               France  1934-07-04   \n",
       "129                  NaN               NaN                  NaN  1936-08-15   \n",
       "\n",
       "     Death City Death Country  female_winner  \n",
       "19   Sallanches        France           True  \n",
       "29       Vienna       Austria           True  \n",
       "52     Mårbacka        Sweden           True  \n",
       "63   Sallanches        France           True  \n",
       "129        Rome         Italy           True  "
      ]
     },
     "execution_count": 17,
     "metadata": {},
     "output_type": "execute_result"
    }
   ],
   "source": [
    "data[data[\"female_winner\"]].head(5)"
   ]
  },
  {
   "cell_type": "code",
   "execution_count": 18,
   "id": "51e83437",
   "metadata": {},
   "outputs": [
    {
     "data": {
      "text/html": [
       "<div>\n",
       "<style scoped>\n",
       "    .dataframe tbody tr th:only-of-type {\n",
       "        vertical-align: middle;\n",
       "    }\n",
       "\n",
       "    .dataframe tbody tr th {\n",
       "        vertical-align: top;\n",
       "    }\n",
       "\n",
       "    .dataframe thead th {\n",
       "        text-align: right;\n",
       "    }\n",
       "</style>\n",
       "<table border=\"1\" class=\"dataframe\">\n",
       "  <thead>\n",
       "    <tr style=\"text-align: right;\">\n",
       "      <th></th>\n",
       "      <th>Year</th>\n",
       "      <th>Category</th>\n",
       "      <th>Prize</th>\n",
       "      <th>Motivation</th>\n",
       "      <th>Prize Share</th>\n",
       "      <th>Laureate ID</th>\n",
       "      <th>Laureate Type</th>\n",
       "      <th>Full Name</th>\n",
       "      <th>Birth Date</th>\n",
       "      <th>Birth City</th>\n",
       "      <th>Birth Country</th>\n",
       "      <th>Sex</th>\n",
       "      <th>Organization Name</th>\n",
       "      <th>Organization City</th>\n",
       "      <th>Organization Country</th>\n",
       "      <th>Death Date</th>\n",
       "      <th>Death City</th>\n",
       "      <th>Death Country</th>\n",
       "      <th>female_winner</th>\n",
       "    </tr>\n",
       "  </thead>\n",
       "  <tbody>\n",
       "    <tr>\n",
       "      <th>19</th>\n",
       "      <td>1903</td>\n",
       "      <td>Physics</td>\n",
       "      <td>The Nobel Prize in Physics 1903</td>\n",
       "      <td>\"in recognition of the extraordinary services ...</td>\n",
       "      <td>1/4</td>\n",
       "      <td>6</td>\n",
       "      <td>Individual</td>\n",
       "      <td>Marie Curie, née Sklodowska</td>\n",
       "      <td>1867-11-07</td>\n",
       "      <td>Warsaw</td>\n",
       "      <td>Russian Empire (Poland)</td>\n",
       "      <td>Female</td>\n",
       "      <td>NaN</td>\n",
       "      <td>NaN</td>\n",
       "      <td>NaN</td>\n",
       "      <td>1934-07-04</td>\n",
       "      <td>Sallanches</td>\n",
       "      <td>France</td>\n",
       "      <td>True</td>\n",
       "    </tr>\n",
       "  </tbody>\n",
       "</table>\n",
       "</div>"
      ],
      "text/plain": [
       "    Year Category                            Prize  \\\n",
       "19  1903  Physics  The Nobel Prize in Physics 1903   \n",
       "\n",
       "                                           Motivation Prize Share  \\\n",
       "19  \"in recognition of the extraordinary services ...         1/4   \n",
       "\n",
       "    Laureate ID Laureate Type                    Full Name  Birth Date  \\\n",
       "19            6    Individual  Marie Curie, née Sklodowska  1867-11-07   \n",
       "\n",
       "   Birth City            Birth Country     Sex Organization Name  \\\n",
       "19     Warsaw  Russian Empire (Poland)  Female               NaN   \n",
       "\n",
       "   Organization City Organization Country  Death Date  Death City  \\\n",
       "19               NaN                  NaN  1934-07-04  Sallanches   \n",
       "\n",
       "   Death Country  female_winner  \n",
       "19        France           True  "
      ]
     },
     "execution_count": 18,
     "metadata": {},
     "output_type": "execute_result"
    }
   ],
   "source": [
    "#Find the first woman won the price\n",
    "data[data[\"female_winner\"]].nsmallest(1,'Year')"
   ]
  },
  {
   "cell_type": "markdown",
   "id": "23aa19f3",
   "metadata": {},
   "source": [
    "The fist female won the Nobel Prize in 1903, she was from Poland."
   ]
  },
  {
   "cell_type": "markdown",
   "id": "b8b97c5a",
   "metadata": {},
   "source": [
    "# The number of women Nobel Prize winners from each country"
   ]
  },
  {
   "cell_type": "code",
   "execution_count": 22,
   "id": "b1c80115",
   "metadata": {},
   "outputs": [],
   "source": [
    "# filter the data to include only women Nobel Prize winners\n",
    "df_women = data[data['Sex'] == 'Female']"
   ]
  },
  {
   "cell_type": "code",
   "execution_count": 23,
   "id": "85f5fab1",
   "metadata": {},
   "outputs": [
    {
     "name": "stdout",
     "output_type": "stream",
     "text": [
      "50\n"
     ]
    }
   ],
   "source": [
    "print(len(df_women))"
   ]
  },
  {
   "cell_type": "code",
   "execution_count": 24,
   "id": "a71f95b3",
   "metadata": {},
   "outputs": [
    {
     "data": {
      "image/png": "[encoded data removed]",
      "text/plain": [
       "<Figure size 1200x600 with 1 Axes>"
      ]
     },
     "metadata": {},
     "output_type": "display_data"
    }
   ],
   "source": [
    "# create a countplot of women Nobel Prize winners by country\n",
    "plt.figure(figsize=(12, 6))\n",
    "sns.countplot(x='Birth Country', data=df_women)\n",
    "plt.title('Women Nobel Prize Winners by Country')\n",
    "plt.xlabel('Country')\n",
    "plt.ylabel('Count')\n",
    "\n",
    "# rotate x-axis labels for better readability\n",
    "plt.xticks(rotation=90)\n",
    "\n",
    "# show the plot\n",
    "plt.show()"
   ]
  },
  {
   "cell_type": "code",
   "execution_count": 42,
   "id": "40246552",
   "metadata": {},
   "outputs": [
    {
     "data": {
      "application/vnd.plotly.v1+json": {
       "config": {
        "plotlyServerURL": "https://plot.ly"
       },
       "data": [
        {
         "coloraxis": "coloraxis",
         "geo": "geo",
         "hovertemplate": "Birth Country=%{location}<br>count=%{z}<extra></extra>",
         "locationmode": "country names",
         "locations": [
          "Australia",
          "Austria",
          "Austria-Hungary (Czech Republic)",
          "Austrian Empire (Czech Republic)",
          "British Mandate of Palestine (Israel)",
          "Burma (Myanmar)",
          "Canada",
          "Chile",
          "China",
          "Denmark",
          "Egypt",
          "France",
          "Germany",
          "Germany (Poland)",
          "Guatemala",
          "Iran",
          "Italy",
          "Kenya",
          "Liberia",
          "Northern Ireland",
          "Norway",
          "Ottoman Empire (Republic of Macedonia)",
          "Pakistan",
          "Persia (Iran)",
          "Poland",
          "Romania",
          "Russian Empire (Poland)",
          "South Africa",
          "Sweden",
          "Ukraine",
          "United States of America",
          "Yemen"
         ],
         "name": "",
         "type": "choropleth",
         "z": [
          1,
          1,
          1,
          1,
          1,
          1,
          1,
          1,
          1,
          1,
          1,
          2,
          2,
          1,
          1,
          1,
          2,
          1,
          2,
          2,
          1,
          1,
          1,
          1,
          1,
          1,
          2,
          1,
          2,
          1,
          12,
          1
         ]
        }
       ],
       "layout": {
        "coloraxis": {
         "colorbar": {
          "title": {
           "text": "count"
          }
         },
         "colorscale": [
          [
           0,
           "#0d0887"
          ],
          [
           0.1111111111111111,
           "#46039f"
          ],
          [
           0.2222222222222222,
           "#7201a8"
          ],
          [
           0.3333333333333333,
           "#9c179e"
          ],
          [
           0.4444444444444444,
           "#bd3786"
          ],
          [
           0.5555555555555556,
           "#d8576b"
          ],
          [
           0.6666666666666666,
           "#ed7953"
          ],
          [
           0.7777777777777778,
           "#fb9f3a"
          ],
          [
           0.8888888888888888,
           "#fdca26"
          ],
          [
           1,
           "#f0f921"
          ]
         ]
        },
        "geo": {
         "center": {},
         "domain": {
          "x": [
           0,
           1
          ],
          "y": [
           0,
           1
          ]
         }
        },
        "legend": {
         "tracegroupgap": 0
        },
        "template": {
         "data": {
          "bar": [
           {
            "error_x": {
             "color": "#2a3f5f"
            },
            "error_y": {
             "color": "#2a3f5f"
            },
            "marker": {
             "line": {
              "color": "#E5ECF6",
              "width": 0.5
             },
             "pattern": {
              "fillmode": "overlay",
              "size": 10,
              "solidity": 0.2
             }
            },
            "type": "bar"
           }
          ],
          "barpolar": [
           {
            "marker": {
             "line": {
              "color": "#E5ECF6",
              "width": 0.5
             },
             "pattern": {
              "fillmode": "overlay",
              "size": 10,
              "solidity": 0.2
             }
            },
            "type": "barpolar"
           }
          ],
          "carpet": [
           {
            "aaxis": {
             "endlinecolor": "#2a3f5f",
             "gridcolor": "white",
             "linecolor": "white",
             "minorgridcolor": "white",
             "startlinecolor": "#2a3f5f"
            },
            "baxis": {
             "endlinecolor": "#2a3f5f",
             "gridcolor": "white",
             "linecolor": "white",
             "minorgridcolor": "white",
             "startlinecolor": "#2a3f5f"
            },
            "type": "carpet"
           }
          ],
          "choropleth": [
           {
            "colorbar": {
             "outlinewidth": 0,
             "ticks": ""
            },
            "type": "choropleth"
           }
          ],
          "contour": [
           {
            "colorbar": {
             "outlinewidth": 0,
             "ticks": ""
            },
            "colorscale": [
             [
              0,
              "#0d0887"
             ],
             [
              0.1111111111111111,
              "#46039f"
             ],
             [
              0.2222222222222222,
              "#7201a8"
             ],
             [
              0.3333333333333333,
              "#9c179e"
             ],
             [
              0.4444444444444444,
              "#bd3786"
             ],
             [
              0.5555555555555556,
              "#d8576b"
             ],
             [
              0.6666666666666666,
              "#ed7953"
             ],
             [
              0.7777777777777778,
              "#fb9f3a"
             ],
             [
              0.8888888888888888,
              "#fdca26"
             ],
             [
              1,
              "#f0f921"
             ]
            ],
            "type": "contour"
           }
          ],
          "contourcarpet": [
           {
            "colorbar": {
             "outlinewidth": 0,
             "ticks": ""
            },
            "type": "contourcarpet"
           }
          ],
          "heatmap": [
           {
            "colorbar": {
             "outlinewidth": 0,
             "ticks": ""
            },
            "colorscale": [
             [
              0,
              "#0d0887"
             ],
             [
              0.1111111111111111,
              "#46039f"
             ],
             [
              0.2222222222222222,
              "#7201a8"
             ],
             [
              0.3333333333333333,
              "#9c179e"
             ],
             [
              0.4444444444444444,
              "#bd3786"
             ],
             [
              0.5555555555555556,
              "#d8576b"
             ],
             [
              0.6666666666666666,
              "#ed7953"
             ],
             [
              0.7777777777777778,
              "#fb9f3a"
             ],
             [
              0.8888888888888888,
              "#fdca26"
             ],
             [
              1,
              "#f0f921"
             ]
            ],
            "type": "heatmap"
           }
          ],
          "heatmapgl": [
           {
            "colorbar": {
             "outlinewidth": 0,
             "ticks": ""
            },
            "colorscale": [
             [
              0,
              "#0d0887"
             ],
             [
              0.1111111111111111,
              "#46039f"
             ],
             [
              0.2222222222222222,
              "#7201a8"
             ],
             [
              0.3333333333333333,
              "#9c179e"
             ],
             [
              0.4444444444444444,
              "#bd3786"
             ],
             [
              0.5555555555555556,
              "#d8576b"
             ],
             [
              0.6666666666666666,
              "#ed7953"
             ],
             [
              0.7777777777777778,
              "#fb9f3a"
             ],
             [
              0.8888888888888888,
              "#fdca26"
             ],
             [
              1,
              "#f0f921"
             ]
            ],
            "type": "heatmapgl"
           }
          ],
          "histogram": [
           {
            "marker": {
             "pattern": {
              "fillmode": "overlay",
              "size": 10,
              "solidity": 0.2
             }
            },
            "type": "histogram"
           }
          ],
          "histogram2d": [
           {
            "colorbar": {
             "outlinewidth": 0,
             "ticks": ""
            },
            "colorscale": [
             [
              0,
              "#0d0887"
             ],
             [
              0.1111111111111111,
              "#46039f"
             ],
             [
              0.2222222222222222,
              "#7201a8"
             ],
             [
              0.3333333333333333,
              "#9c179e"
             ],
             [
              0.4444444444444444,
              "#bd3786"
             ],
             [
              0.5555555555555556,
              "#d8576b"
             ],
             [
              0.6666666666666666,
              "#ed7953"
             ],
             [
              0.7777777777777778,
              "#fb9f3a"
             ],
             [
              0.8888888888888888,
              "#fdca26"
             ],
             [
              1,
              "#f0f921"
             ]
            ],
            "type": "histogram2d"
           }
          ],
          "histogram2dcontour": [
           {
            "colorbar": {
             "outlinewidth": 0,
             "ticks": ""
            },
            "colorscale": [
             [
              0,
              "#0d0887"
             ],
             [
              0.1111111111111111,
              "#46039f"
             ],
             [
              0.2222222222222222,
              "#7201a8"
             ],
             [
              0.3333333333333333,
              "#9c179e"
             ],
             [
              0.4444444444444444,
              "#bd3786"
             ],
             [
              0.5555555555555556,
              "#d8576b"
             ],
             [
              0.6666666666666666,
              "#ed7953"
             ],
             [
              0.7777777777777778,
              "#fb9f3a"
             ],
             [
              0.8888888888888888,
              "#fdca26"
             ],
             [
              1,
              "#f0f921"
             ]
            ],
            "type": "histogram2dcontour"
           }
          ],
          "mesh3d": [
           {
            "colorbar": {
             "outlinewidth": 0,
             "ticks": ""
            },
            "type": "mesh3d"
           }
          ],
          "parcoords": [
           {
            "line": {
             "colorbar": {
              "outlinewidth": 0,
              "ticks": ""
             }
            },
            "type": "parcoords"
           }
          ],
          "pie": [
           {
            "automargin": true,
            "type": "pie"
           }
          ],
          "scatter": [
           {
            "fillpattern": {
             "fillmode": "overlay",
             "size": 10,
             "solidity": 0.2
            },
            "type": "scatter"
           }
          ],
          "scatter3d": [
           {
            "line": {
             "colorbar": {
              "outlinewidth": 0,
              "ticks": ""
             }
            },
            "marker": {
             "colorbar": {
              "outlinewidth": 0,
              "ticks": ""
             }
            },
            "type": "scatter3d"
           }
          ],
          "scattercarpet": [
           {
            "marker": {
             "colorbar": {
              "outlinewidth": 0,
              "ticks": ""
             }
            },
            "type": "scattercarpet"
           }
          ],
          "scattergeo": [
           {
            "marker": {
             "colorbar": {
              "outlinewidth": 0,
              "ticks": ""
             }
            },
            "type": "scattergeo"
           }
          ],
          "scattergl": [
           {
            "marker": {
             "colorbar": {
              "outlinewidth": 0,
              "ticks": ""
             }
            },
            "type": "scattergl"
           }
          ],
          "scattermapbox": [
           {
            "marker": {
             "colorbar": {
              "outlinewidth": 0,
              "ticks": ""
             }
            },
            "type": "scattermapbox"
           }
          ],
          "scatterpolar": [
           {
            "marker": {
             "colorbar": {
              "outlinewidth": 0,
              "ticks": ""
             }
            },
            "type": "scatterpolar"
           }
          ],
          "scatterpolargl": [
           {
            "marker": {
             "colorbar": {
              "outlinewidth": 0,
              "ticks": ""
             }
            },
            "type": "scatterpolargl"
           }
          ],
          "scatterternary": [
           {
            "marker": {
             "colorbar": {
              "outlinewidth": 0,
              "ticks": ""
             }
            },
            "type": "scatterternary"
           }
          ],
          "surface": [
           {
            "colorbar": {
             "outlinewidth": 0,
             "ticks": ""
            },
            "colorscale": [
             [
              0,
              "#0d0887"
             ],
             [
              0.1111111111111111,
              "#46039f"
             ],
             [
              0.2222222222222222,
              "#7201a8"
             ],
             [
              0.3333333333333333,
              "#9c179e"
             ],
             [
              0.4444444444444444,
              "#bd3786"
             ],
             [
              0.5555555555555556,
              "#d8576b"
             ],
             [
              0.6666666666666666,
              "#ed7953"
             ],
             [
              0.7777777777777778,
              "#fb9f3a"
             ],
             [
              0.8888888888888888,
              "#fdca26"
             ],
             [
              1,
              "#f0f921"
             ]
            ],
            "type": "surface"
           }
          ],
          "table": [
           {
            "cells": {
             "fill": {
              "color": "#EBF0F8"
             },
             "line": {
              "color": "white"
             }
            },
            "header": {
             "fill": {
              "color": "#C8D4E3"
             },
             "line": {
              "color": "white"
             }
            },
            "type": "table"
           }
          ]
         },
         "layout": {
          "annotationdefaults": {
           "arrowcolor": "#2a3f5f",
           "arrowhead": 0,
           "arrowwidth": 1
          },
          "autotypenumbers": "strict",
          "coloraxis": {
           "colorbar": {
            "outlinewidth": 0,
            "ticks": ""
           }
          },
          "colorscale": {
           "diverging": [
            [
             0,
             "#8e0152"
            ],
            [
             0.1,
             "#c51b7d"
            ],
            [
             0.2,
             "#de77ae"
            ],
            [
             0.3,
             "#f1b6da"
            ],
            [
             0.4,
             "#fde0ef"
            ],
            [
             0.5,
             "#f7f7f7"
            ],
            [
             0.6,
             "#e6f5d0"
            ],
            [
             0.7,
             "#b8e186"
            ],
            [
             0.8,
             "#7fbc41"
            ],
            [
             0.9,
             "#4d9221"
            ],
            [
             1,
             "#276419"
            ]
           ],
           "sequential": [
            [
             0,
             "#0d0887"
            ],
            [
             0.1111111111111111,
             "#46039f"
            ],
            [
             0.2222222222222222,
             "#7201a8"
            ],
            [
             0.3333333333333333,
             "#9c179e"
            ],
            [
             0.4444444444444444,
             "#bd3786"
            ],
            [
             0.5555555555555556,
             "#d8576b"
            ],
            [
             0.6666666666666666,
             "#ed7953"
            ],
            [
             0.7777777777777778,
             "#fb9f3a"
            ],
            [
             0.8888888888888888,
             "#fdca26"
            ],
            [
             1,
             "#f0f921"
            ]
           ],
           "sequentialminus": [
            [
             0,
             "#0d0887"
            ],
            [
             0.1111111111111111,
             "#46039f"
            ],
            [
             0.2222222222222222,
             "#7201a8"
            ],
            [
             0.3333333333333333,
             "#9c179e"
            ],
            [
             0.4444444444444444,
             "#bd3786"
            ],
            [
             0.5555555555555556,
             "#d8576b"
            ],
            [
             0.6666666666666666,
             "#ed7953"
            ],
            [
             0.7777777777777778,
             "#fb9f3a"
            ],
            [
             0.8888888888888888,
             "#fdca26"
            ],
            [
             1,
             "#f0f921"
            ]
           ]
          },
          "colorway": [
           "#636efa",
           "#EF553B",
           "#00cc96",
           "#ab63fa",
           "#FFA15A",
           "#19d3f3",
           "#FF6692",
           "#B6E880",
           "#FF97FF",
           "#FECB52"
          ],
          "font": {
           "color": "#2a3f5f"
          },
          "geo": {
           "bgcolor": "white",
           "lakecolor": "white",
           "landcolor": "#E5ECF6",
           "showlakes": true,
           "showland": true,
           "subunitcolor": "white"
          },
          "hoverlabel": {
           "align": "left"
          },
          "hovermode": "closest",
          "mapbox": {
           "style": "light"
          },
          "paper_bgcolor": "white",
          "plot_bgcolor": "#E5ECF6",
          "polar": {
           "angularaxis": {
            "gridcolor": "white",
            "linecolor": "white",
            "ticks": ""
           },
           "bgcolor": "#E5ECF6",
           "radialaxis": {
            "gridcolor": "white",
            "linecolor": "white",
            "ticks": ""
           }
          },
          "scene": {
           "xaxis": {
            "backgroundcolor": "#E5ECF6",
            "gridcolor": "white",
            "gridwidth": 2,
            "linecolor": "white",
            "showbackground": true,
            "ticks": "",
            "zerolinecolor": "white"
           },
           "yaxis": {
            "backgroundcolor": "#E5ECF6",
            "gridcolor": "white",
            "gridwidth": 2,
            "linecolor": "white",
            "showbackground": true,
            "ticks": "",
            "zerolinecolor": "white"
           },
           "zaxis": {
            "backgroundcolor": "#E5ECF6",
            "gridcolor": "white",
            "gridwidth": 2,
            "linecolor": "white",
            "showbackground": true,
            "ticks": "",
            "zerolinecolor": "white"
           }
          },
          "shapedefaults": {
           "line": {
            "color": "#2a3f5f"
           }
          },
          "ternary": {
           "aaxis": {
            "gridcolor": "white",
            "linecolor": "white",
            "ticks": ""
           },
           "baxis": {
            "gridcolor": "white",
            "linecolor": "white",
            "ticks": ""
           },
           "bgcolor": "#E5ECF6",
           "caxis": {
            "gridcolor": "white",
            "linecolor": "white",
            "ticks": ""
           }
          },
          "title": {
           "x": 0.05
          },
          "xaxis": {
           "automargin": true,
           "gridcolor": "white",
           "linecolor": "white",
           "ticks": "",
           "title": {
            "standoff": 15
           },
           "zerolinecolor": "white",
           "zerolinewidth": 2
          },
          "yaxis": {
           "automargin": true,
           "gridcolor": "white",
           "linecolor": "white",
           "ticks": "",
           "title": {
            "standoff": 15
           },
           "zerolinecolor": "white",
           "zerolinewidth": 2
          }
         }
        },
        "title": {
         "text": "Women Nobel Prize Winners by Country"
        }
       }
      },
      "text/html": [
       "<div>                            <div id=\"ab3ea04e-f6d4-44a5-ba9e-f45bf6d0176d\" class=\"plotly-graph-div\" style=\"height:525px; width:100%;\"></div>            <script type=\"text/javascript\">                require([\"plotly\"], function(Plotly) {                    window.PLOTLYENV=window.PLOTLYENV || {};                                    if (document.getElementById(\"ab3ea04e-f6d4-44a5-ba9e-f45bf6d0176d\")) {                    Plotly.newPlot(                        \"ab3ea04e-f6d4-44a5-ba9e-f45bf6d0176d\",                        [{\"coloraxis\":\"coloraxis\",\"geo\":\"geo\",\"hovertemplate\":\"Birth Country=%{location}<br>count=%{z}<extra></extra>\",\"locationmode\":\"country names\",\"locations\":[\"Australia\",\"Austria\",\"Austria-Hungary (Czech Republic)\",\"Austrian Empire (Czech Republic)\",\"British Mandate of Palestine (Israel)\",\"Burma (Myanmar)\",\"Canada\",\"Chile\",\"China\",\"Denmark\",\"Egypt\",\"France\",\"Germany\",\"Germany (Poland)\",\"Guatemala\",\"Iran\",\"Italy\",\"Kenya\",\"Liberia\",\"Northern Ireland\",\"Norway\",\"Ottoman Empire (Republic of Macedonia)\",\"Pakistan\",\"Persia (Iran)\",\"Poland\",\"Romania\",\"Russian Empire (Poland)\",\"South Africa\",\"Sweden\",\"Ukraine\",\"United States of America\",\"Yemen\"],\"name\":\"\",\"z\":[1,1,1,1,1,1,1,1,1,1,1,2,2,1,1,1,2,1,2,2,1,1,1,1,1,1,2,1,2,1,12,1],\"type\":\"choropleth\"}],                        {\"template\":{\"data\":{\"histogram2dcontour\":[{\"type\":\"histogram2dcontour\",\"colorbar\":{\"outlinewidth\":0,\"ticks\":\"\"},\"colorscale\":[[0.0,\"#0d0887\"],[0.1111111111111111,\"#46039f\"],[0.2222222222222222,\"#7201a8\"],[0.3333333333333333,\"#9c179e\"],[0.4444444444444444,\"#bd3786\"],[0.5555555555555556,\"#d8576b\"],[0.6666666666666666,\"#ed7953\"],[0.7777777777777778,\"#fb9f3a\"],[0.8888888888888888,\"#fdca26\"],[1.0,\"#f0f921\"]]}],\"choropleth\":[{\"type\":\"choropleth\",\"colorbar\":{\"outlinewidth\":0,\"ticks\":\"\"}}],\"histogram2d\":[{\"type\":\"histogram2d\",\"colorbar\":{\"outlinewidth\":0,\"ticks\":\"\"},\"colorscale\":[[0.0,\"#0d0887\"],[0.1111111111111111,\"#46039f\"],[0.2222222222222222,\"#7201a8\"],[0.3333333333333333,\"#9c179e\"],[0.4444444444444444,\"#bd3786\"],[0.5555555555555556,\"#d8576b\"],[0.6666666666666666,\"#ed7953\"],[0.7777777777777778,\"#fb9f3a\"],[0.8888888888888888,\"#fdca26\"],[1.0,\"#f0f921\"]]}],\"heatmap\":[{\"type\":\"heatmap\",\"colorbar\":{\"outlinewidth\":0,\"ticks\":\"\"},\"colorscale\":[[0.0,\"#0d0887\"],[0.1111111111111111,\"#46039f\"],[0.2222222222222222,\"#7201a8\"],[0.3333333333333333,\"#9c179e\"],[0.4444444444444444,\"#bd3786\"],[0.5555555555555556,\"#d8576b\"],[0.6666666666666666,\"#ed7953\"],[0.7777777777777778,\"#fb9f3a\"],[0.8888888888888888,\"#fdca26\"],[1.0,\"#f0f921\"]]}],\"heatmapgl\":[{\"type\":\"heatmapgl\",\"colorbar\":{\"outlinewidth\":0,\"ticks\":\"\"},\"colorscale\":[[0.0,\"#0d0887\"],[0.1111111111111111,\"#46039f\"],[0.2222222222222222,\"#7201a8\"],[0.3333333333333333,\"#9c179e\"],[0.4444444444444444,\"#bd3786\"],[0.5555555555555556,\"#d8576b\"],[0.6666666666666666,\"#ed7953\"],[0.7777777777777778,\"#fb9f3a\"],[0.8888888888888888,\"#fdca26\"],[1.0,\"#f0f921\"]]}],\"contourcarpet\":[{\"type\":\"contourcarpet\",\"colorbar\":{\"outlinewidth\":0,\"ticks\":\"\"}}],\"contour\":[{\"type\":\"contour\",\"colorbar\":{\"outlinewidth\":0,\"ticks\":\"\"},\"colorscale\":[[0.0,\"#0d0887\"],[0.1111111111111111,\"#46039f\"],[0.2222222222222222,\"#7201a8\"],[0.3333333333333333,\"#9c179e\"],[0.4444444444444444,\"#bd3786\"],[0.5555555555555556,\"#d8576b\"],[0.6666666666666666,\"#ed7953\"],[0.7777777777777778,\"#fb9f3a\"],[0.8888888888888888,\"#fdca26\"],[1.0,\"#f0f921\"]]}],\"surface\":[{\"type\":\"surface\",\"colorbar\":{\"outlinewidth\":0,\"ticks\":\"\"},\"colorscale\":[[0.0,\"#0d0887\"],[0.1111111111111111,\"#46039f\"],[0.2222222222222222,\"#7201a8\"],[0.3333333333333333,\"#9c179e\"],[0.4444444444444444,\"#bd3786\"],[0.5555555555555556,\"#d8576b\"],[0.6666666666666666,\"#ed7953\"],[0.7777777777777778,\"#fb9f3a\"],[0.8888888888888888,\"#fdca26\"],[1.0,\"#f0f921\"]]}],\"mesh3d\":[{\"type\":\"mesh3d\",\"colorbar\":{\"outlinewidth\":0,\"ticks\":\"\"}}],\"scatter\":[{\"fillpattern\":{\"fillmode\":\"overlay\",\"size\":10,\"solidity\":0.2},\"type\":\"scatter\"}],\"parcoords\":[{\"type\":\"parcoords\",\"line\":{\"colorbar\":{\"outlinewidth\":0,\"ticks\":\"\"}}}],\"scatterpolargl\":[{\"type\":\"scatterpolargl\",\"marker\":{\"colorbar\":{\"outlinewidth\":0,\"ticks\":\"\"}}}],\"bar\":[{\"error_x\":{\"color\":\"#2a3f5f\"},\"error_y\":{\"color\":\"#2a3f5f\"},\"marker\":{\"line\":{\"color\":\"#E5ECF6\",\"width\":0.5},\"pattern\":{\"fillmode\":\"overlay\",\"size\":10,\"solidity\":0.2}},\"type\":\"bar\"}],\"scattergeo\":[{\"type\":\"scattergeo\",\"marker\":{\"colorbar\":{\"outlinewidth\":0,\"ticks\":\"\"}}}],\"scatterpolar\":[{\"type\":\"scatterpolar\",\"marker\":{\"colorbar\":{\"outlinewidth\":0,\"ticks\":\"\"}}}],\"histogram\":[{\"marker\":{\"pattern\":{\"fillmode\":\"overlay\",\"size\":10,\"solidity\":0.2}},\"type\":\"histogram\"}],\"scattergl\":[{\"type\":\"scattergl\",\"marker\":{\"colorbar\":{\"outlinewidth\":0,\"ticks\":\"\"}}}],\"scatter3d\":[{\"type\":\"scatter3d\",\"line\":{\"colorbar\":{\"outlinewidth\":0,\"ticks\":\"\"}},\"marker\":{\"colorbar\":{\"outlinewidth\":0,\"ticks\":\"\"}}}],\"scattermapbox\":[{\"type\":\"scattermapbox\",\"marker\":{\"colorbar\":{\"outlinewidth\":0,\"ticks\":\"\"}}}],\"scatterternary\":[{\"type\":\"scatterternary\",\"marker\":{\"colorbar\":{\"outlinewidth\":0,\"ticks\":\"\"}}}],\"scattercarpet\":[{\"type\":\"scattercarpet\",\"marker\":{\"colorbar\":{\"outlinewidth\":0,\"ticks\":\"\"}}}],\"carpet\":[{\"aaxis\":{\"endlinecolor\":\"#2a3f5f\",\"gridcolor\":\"white\",\"linecolor\":\"white\",\"minorgridcolor\":\"white\",\"startlinecolor\":\"#2a3f5f\"},\"baxis\":{\"endlinecolor\":\"#2a3f5f\",\"gridcolor\":\"white\",\"linecolor\":\"white\",\"minorgridcolor\":\"white\",\"startlinecolor\":\"#2a3f5f\"},\"type\":\"carpet\"}],\"table\":[{\"cells\":{\"fill\":{\"color\":\"#EBF0F8\"},\"line\":{\"color\":\"white\"}},\"header\":{\"fill\":{\"color\":\"#C8D4E3\"},\"line\":{\"color\":\"white\"}},\"type\":\"table\"}],\"barpolar\":[{\"marker\":{\"line\":{\"color\":\"#E5ECF6\",\"width\":0.5},\"pattern\":{\"fillmode\":\"overlay\",\"size\":10,\"solidity\":0.2}},\"type\":\"barpolar\"}],\"pie\":[{\"automargin\":true,\"type\":\"pie\"}]},\"layout\":{\"autotypenumbers\":\"strict\",\"colorway\":[\"#636efa\",\"#EF553B\",\"#00cc96\",\"#ab63fa\",\"#FFA15A\",\"#19d3f3\",\"#FF6692\",\"#B6E880\",\"#FF97FF\",\"#FECB52\"],\"font\":{\"color\":\"#2a3f5f\"},\"hovermode\":\"closest\",\"hoverlabel\":{\"align\":\"left\"},\"paper_bgcolor\":\"white\",\"plot_bgcolor\":\"#E5ECF6\",\"polar\":{\"bgcolor\":\"#E5ECF6\",\"angularaxis\":{\"gridcolor\":\"white\",\"linecolor\":\"white\",\"ticks\":\"\"},\"radialaxis\":{\"gridcolor\":\"white\",\"linecolor\":\"white\",\"ticks\":\"\"}},\"ternary\":{\"bgcolor\":\"#E5ECF6\",\"aaxis\":{\"gridcolor\":\"white\",\"linecolor\":\"white\",\"ticks\":\"\"},\"baxis\":{\"gridcolor\":\"white\",\"linecolor\":\"white\",\"ticks\":\"\"},\"caxis\":{\"gridcolor\":\"white\",\"linecolor\":\"white\",\"ticks\":\"\"}},\"coloraxis\":{\"colorbar\":{\"outlinewidth\":0,\"ticks\":\"\"}},\"colorscale\":{\"sequential\":[[0.0,\"#0d0887\"],[0.1111111111111111,\"#46039f\"],[0.2222222222222222,\"#7201a8\"],[0.3333333333333333,\"#9c179e\"],[0.4444444444444444,\"#bd3786\"],[0.5555555555555556,\"#d8576b\"],[0.6666666666666666,\"#ed7953\"],[0.7777777777777778,\"#fb9f3a\"],[0.8888888888888888,\"#fdca26\"],[1.0,\"#f0f921\"]],\"sequentialminus\":[[0.0,\"#0d0887\"],[0.1111111111111111,\"#46039f\"],[0.2222222222222222,\"#7201a8\"],[0.3333333333333333,\"#9c179e\"],[0.4444444444444444,\"#bd3786\"],[0.5555555555555556,\"#d8576b\"],[0.6666666666666666,\"#ed7953\"],[0.7777777777777778,\"#fb9f3a\"],[0.8888888888888888,\"#fdca26\"],[1.0,\"#f0f921\"]],\"diverging\":[[0,\"#8e0152\"],[0.1,\"#c51b7d\"],[0.2,\"#de77ae\"],[0.3,\"#f1b6da\"],[0.4,\"#fde0ef\"],[0.5,\"#f7f7f7\"],[0.6,\"#e6f5d0\"],[0.7,\"#b8e186\"],[0.8,\"#7fbc41\"],[0.9,\"#4d9221\"],[1,\"#276419\"]]},\"xaxis\":{\"gridcolor\":\"white\",\"linecolor\":\"white\",\"ticks\":\"\",\"title\":{\"standoff\":15},\"zerolinecolor\":\"white\",\"automargin\":true,\"zerolinewidth\":2},\"yaxis\":{\"gridcolor\":\"white\",\"linecolor\":\"white\",\"ticks\":\"\",\"title\":{\"standoff\":15},\"zerolinecolor\":\"white\",\"automargin\":true,\"zerolinewidth\":2},\"scene\":{\"xaxis\":{\"backgroundcolor\":\"#E5ECF6\",\"gridcolor\":\"white\",\"linecolor\":\"white\",\"showbackground\":true,\"ticks\":\"\",\"zerolinecolor\":\"white\",\"gridwidth\":2},\"yaxis\":{\"backgroundcolor\":\"#E5ECF6\",\"gridcolor\":\"white\",\"linecolor\":\"white\",\"showbackground\":true,\"ticks\":\"\",\"zerolinecolor\":\"white\",\"gridwidth\":2},\"zaxis\":{\"backgroundcolor\":\"#E5ECF6\",\"gridcolor\":\"white\",\"linecolor\":\"white\",\"showbackground\":true,\"ticks\":\"\",\"zerolinecolor\":\"white\",\"gridwidth\":2}},\"shapedefaults\":{\"line\":{\"color\":\"#2a3f5f\"}},\"annotationdefaults\":{\"arrowcolor\":\"#2a3f5f\",\"arrowhead\":0,\"arrowwidth\":1},\"geo\":{\"bgcolor\":\"white\",\"landcolor\":\"#E5ECF6\",\"subunitcolor\":\"white\",\"showland\":true,\"showlakes\":true,\"lakecolor\":\"white\"},\"title\":{\"x\":0.05},\"mapbox\":{\"style\":\"light\"}}},\"geo\":{\"domain\":{\"x\":[0.0,1.0],\"y\":[0.0,1.0]},\"center\":{}},\"coloraxis\":{\"colorbar\":{\"title\":{\"text\":\"count\"}},\"colorscale\":[[0.0,\"#0d0887\"],[0.1111111111111111,\"#46039f\"],[0.2222222222222222,\"#7201a8\"],[0.3333333333333333,\"#9c179e\"],[0.4444444444444444,\"#bd3786\"],[0.5555555555555556,\"#d8576b\"],[0.6666666666666666,\"#ed7953\"],[0.7777777777777778,\"#fb9f3a\"],[0.8888888888888888,\"#fdca26\"],[1.0,\"#f0f921\"]]},\"legend\":{\"tracegroupgap\":0},\"title\":{\"text\":\"Women Nobel Prize Winners by Country\"}},                        {\"responsive\": true}                    ).then(function(){\n",
       "                            \n",
       "var gd = document.getElementById('ab3ea04e-f6d4-44a5-ba9e-f45bf6d0176d');\n",
       "var x = new MutationObserver(function (mutations, observer) {{\n",
       "        var display = window.getComputedStyle(gd).display;\n",
       "        if (!display || display === 'none') {{\n",
       "            console.log([gd, 'removed!']);\n",
       "            Plotly.purge(gd);\n",
       "            observer.disconnect();\n",
       "        }}\n",
       "}});\n",
       "\n",
       "// Listen for the removal of the full notebook cells\n",
       "var notebookContainer = gd.closest('#notebook-container');\n",
       "if (notebookContainer) {{\n",
       "    x.observe(notebookContainer, {childList: true});\n",
       "}}\n",
       "\n",
       "// Listen for the clearing of the current output cell\n",
       "var outputEl = gd.closest('.output');\n",
       "if (outputEl) {{\n",
       "    x.observe(outputEl, {childList: true});\n",
       "}}\n",
       "\n",
       "                        })                };                });            </script>        </div>"
      ]
     },
     "metadata": {},
     "output_type": "display_data"
    }
   ],
   "source": [
    "# filter the data to include only women Nobel Prize winners\n",
    "df_women = data[data['Sex'] == 'Female']\n",
    "\n",
    "# group by birth country and count the number of women Nobel Prize winners\n",
    "df_women_count = df_women.groupby('Birth Country').size().reset_index(name='count')\n",
    "\n",
    "# create a choropleth map of women Nobel Prize winners by country\n",
    "fig = px.choropleth(df_women_count, \n",
    "                    locations='Birth Country', \n",
    "                    locationmode='country names',\n",
    "                    color='count',\n",
    "                    title='Women Nobel Prize Winners by Country')\n",
    "\n",
    "# show the map\n",
    "fig.show()"
   ]
  },
  {
   "cell_type": "markdown",
   "id": "84635f26",
   "metadata": {},
   "source": [
    "# Repeat laureates"
   ]
  },
  {
   "cell_type": "code",
   "execution_count": 11,
   "id": "d76d13ef",
   "metadata": {},
   "outputs": [
    {
     "data": {
      "text/html": [
       "<div>\n",
       "<style scoped>\n",
       "    .dataframe tbody tr th:only-of-type {\n",
       "        vertical-align: middle;\n",
       "    }\n",
       "\n",
       "    .dataframe tbody tr th {\n",
       "        vertical-align: top;\n",
       "    }\n",
       "\n",
       "    .dataframe thead th {\n",
       "        text-align: right;\n",
       "    }\n",
       "</style>\n",
       "<table border=\"1\" class=\"dataframe\">\n",
       "  <thead>\n",
       "    <tr style=\"text-align: right;\">\n",
       "      <th></th>\n",
       "      <th>Year</th>\n",
       "      <th>Category</th>\n",
       "      <th>Prize</th>\n",
       "      <th>Motivation</th>\n",
       "      <th>Prize Share</th>\n",
       "      <th>Laureate ID</th>\n",
       "      <th>Laureate Type</th>\n",
       "      <th>Full Name</th>\n",
       "      <th>Birth Date</th>\n",
       "      <th>Birth City</th>\n",
       "      <th>Birth Country</th>\n",
       "      <th>Sex</th>\n",
       "      <th>Organization Name</th>\n",
       "      <th>Organization City</th>\n",
       "      <th>Organization Country</th>\n",
       "      <th>Death Date</th>\n",
       "      <th>Death City</th>\n",
       "      <th>Death Country</th>\n",
       "      <th>Age</th>\n",
       "    </tr>\n",
       "  </thead>\n",
       "  <tbody>\n",
       "    <tr>\n",
       "      <th>19</th>\n",
       "      <td>1903</td>\n",
       "      <td>Physics</td>\n",
       "      <td>The Nobel Prize in Physics 1903</td>\n",
       "      <td>\"in recognition of the extraordinary services ...</td>\n",
       "      <td>1/4</td>\n",
       "      <td>6</td>\n",
       "      <td>Individual</td>\n",
       "      <td>Marie Curie, née Sklodowska</td>\n",
       "      <td>1867-11-07</td>\n",
       "      <td>Warsaw</td>\n",
       "      <td>Russian Empire (Poland)</td>\n",
       "      <td>Female</td>\n",
       "      <td>NaN</td>\n",
       "      <td>NaN</td>\n",
       "      <td>NaN</td>\n",
       "      <td>1934-07-04</td>\n",
       "      <td>Sallanches</td>\n",
       "      <td>France</td>\n",
       "      <td>36.0</td>\n",
       "    </tr>\n",
       "    <tr>\n",
       "      <th>46</th>\n",
       "      <td>1908</td>\n",
       "      <td>Medicine</td>\n",
       "      <td>The Nobel Prize in Physiology or Medicine 1908</td>\n",
       "      <td>\"in recognition of their work on immunity\"</td>\n",
       "      <td>1/2</td>\n",
       "      <td>302</td>\n",
       "      <td>Individual</td>\n",
       "      <td>Paul Ehrlich</td>\n",
       "      <td>1854-03-14</td>\n",
       "      <td>Strehlen (Strzelin)</td>\n",
       "      <td>Prussia (Poland)</td>\n",
       "      <td>Male</td>\n",
       "      <td>Goettingen University</td>\n",
       "      <td>Göttingen</td>\n",
       "      <td>Germany</td>\n",
       "      <td>1915-08-20</td>\n",
       "      <td>Bad Homburg vor der Höhe</td>\n",
       "      <td>Germany</td>\n",
       "      <td>54.0</td>\n",
       "    </tr>\n",
       "    <tr>\n",
       "      <th>47</th>\n",
       "      <td>1908</td>\n",
       "      <td>Medicine</td>\n",
       "      <td>The Nobel Prize in Physiology or Medicine 1908</td>\n",
       "      <td>\"in recognition of their work on immunity\"</td>\n",
       "      <td>1/2</td>\n",
       "      <td>302</td>\n",
       "      <td>Individual</td>\n",
       "      <td>Paul Ehrlich</td>\n",
       "      <td>1854-03-14</td>\n",
       "      <td>Strehlen (Strzelin)</td>\n",
       "      <td>Prussia (Poland)</td>\n",
       "      <td>Male</td>\n",
       "      <td>Königliches Institut für experimentelle Therap...</td>\n",
       "      <td>Frankfurt-on-the-Main</td>\n",
       "      <td>Germany</td>\n",
       "      <td>1915-08-20</td>\n",
       "      <td>Bad Homburg vor der Höhe</td>\n",
       "      <td>Germany</td>\n",
       "      <td>54.0</td>\n",
       "    </tr>\n",
       "    <tr>\n",
       "      <th>63</th>\n",
       "      <td>1911</td>\n",
       "      <td>Chemistry</td>\n",
       "      <td>The Nobel Prize in Chemistry 1911</td>\n",
       "      <td>\"in recognition of her services to the advance...</td>\n",
       "      <td>1/1</td>\n",
       "      <td>6</td>\n",
       "      <td>Individual</td>\n",
       "      <td>Marie Curie, née Sklodowska</td>\n",
       "      <td>1867-11-07</td>\n",
       "      <td>Warsaw</td>\n",
       "      <td>Russian Empire (Poland)</td>\n",
       "      <td>Female</td>\n",
       "      <td>Sorbonne University</td>\n",
       "      <td>Paris</td>\n",
       "      <td>France</td>\n",
       "      <td>1934-07-04</td>\n",
       "      <td>Sallanches</td>\n",
       "      <td>France</td>\n",
       "      <td>44.0</td>\n",
       "    </tr>\n",
       "    <tr>\n",
       "      <th>90</th>\n",
       "      <td>1917</td>\n",
       "      <td>Peace</td>\n",
       "      <td>The Nobel Peace Prize 1917</td>\n",
       "      <td>NaN</td>\n",
       "      <td>1/1</td>\n",
       "      <td>482</td>\n",
       "      <td>Organization</td>\n",
       "      <td>Comité international de la Croix Rouge (Intern...</td>\n",
       "      <td>NaT</td>\n",
       "      <td>NaN</td>\n",
       "      <td>NaN</td>\n",
       "      <td>NaN</td>\n",
       "      <td>NaN</td>\n",
       "      <td>NaN</td>\n",
       "      <td>NaN</td>\n",
       "      <td>NaN</td>\n",
       "      <td>NaN</td>\n",
       "      <td>NaN</td>\n",
       "      <td>NaN</td>\n",
       "    </tr>\n",
       "    <tr>\n",
       "      <th>...</th>\n",
       "      <td>...</td>\n",
       "      <td>...</td>\n",
       "      <td>...</td>\n",
       "      <td>...</td>\n",
       "      <td>...</td>\n",
       "      <td>...</td>\n",
       "      <td>...</td>\n",
       "      <td>...</td>\n",
       "      <td>...</td>\n",
       "      <td>...</td>\n",
       "      <td>...</td>\n",
       "      <td>...</td>\n",
       "      <td>...</td>\n",
       "      <td>...</td>\n",
       "      <td>...</td>\n",
       "      <td>...</td>\n",
       "      <td>...</td>\n",
       "      <td>...</td>\n",
       "      <td>...</td>\n",
       "    </tr>\n",
       "    <tr>\n",
       "      <th>942</th>\n",
       "      <td>2014</td>\n",
       "      <td>Physics</td>\n",
       "      <td>The Nobel Prize in Physics 2014</td>\n",
       "      <td>\"for the invention of efficient blue light-emi...</td>\n",
       "      <td>1/3</td>\n",
       "      <td>906</td>\n",
       "      <td>Individual</td>\n",
       "      <td>Isamu Akasaki</td>\n",
       "      <td>1929-01-30</td>\n",
       "      <td>Chiran</td>\n",
       "      <td>Japan</td>\n",
       "      <td>Male</td>\n",
       "      <td>Nagoya University</td>\n",
       "      <td>Nagoya</td>\n",
       "      <td>Japan</td>\n",
       "      <td>NaN</td>\n",
       "      <td>NaN</td>\n",
       "      <td>NaN</td>\n",
       "      <td>85.0</td>\n",
       "    </tr>\n",
       "    <tr>\n",
       "      <th>945</th>\n",
       "      <td>2015</td>\n",
       "      <td>Chemistry</td>\n",
       "      <td>The Nobel Prize in Chemistry 2015</td>\n",
       "      <td>\"for mechanistic studies of DNA repair\"</td>\n",
       "      <td>1/3</td>\n",
       "      <td>921</td>\n",
       "      <td>Individual</td>\n",
       "      <td>Tomas Lindahl</td>\n",
       "      <td>1938-01-28</td>\n",
       "      <td>Stockholm</td>\n",
       "      <td>Sweden</td>\n",
       "      <td>Male</td>\n",
       "      <td>Francis Crick Institute</td>\n",
       "      <td>Hertfordshire</td>\n",
       "      <td>United Kingdom</td>\n",
       "      <td>NaN</td>\n",
       "      <td>NaN</td>\n",
       "      <td>NaN</td>\n",
       "      <td>77.0</td>\n",
       "    </tr>\n",
       "    <tr>\n",
       "      <th>946</th>\n",
       "      <td>2015</td>\n",
       "      <td>Chemistry</td>\n",
       "      <td>The Nobel Prize in Chemistry 2015</td>\n",
       "      <td>\"for mechanistic studies of DNA repair\"</td>\n",
       "      <td>1/3</td>\n",
       "      <td>921</td>\n",
       "      <td>Individual</td>\n",
       "      <td>Tomas Lindahl</td>\n",
       "      <td>1938-01-28</td>\n",
       "      <td>Stockholm</td>\n",
       "      <td>Sweden</td>\n",
       "      <td>Male</td>\n",
       "      <td>Clare Hall Laboratory</td>\n",
       "      <td>Hertfordshire</td>\n",
       "      <td>United Kingdom</td>\n",
       "      <td>NaN</td>\n",
       "      <td>NaN</td>\n",
       "      <td>NaN</td>\n",
       "      <td>77.0</td>\n",
       "    </tr>\n",
       "    <tr>\n",
       "      <th>947</th>\n",
       "      <td>2015</td>\n",
       "      <td>Chemistry</td>\n",
       "      <td>The Nobel Prize in Chemistry 2015</td>\n",
       "      <td>\"for mechanistic studies of DNA repair\"</td>\n",
       "      <td>1/3</td>\n",
       "      <td>922</td>\n",
       "      <td>Individual</td>\n",
       "      <td>Paul Modrich</td>\n",
       "      <td>1946-06-13</td>\n",
       "      <td>Raton, NM</td>\n",
       "      <td>United States of America</td>\n",
       "      <td>Male</td>\n",
       "      <td>Howard Hughes Medical Institute</td>\n",
       "      <td>Durham, NC</td>\n",
       "      <td>United States of America</td>\n",
       "      <td>NaN</td>\n",
       "      <td>NaN</td>\n",
       "      <td>NaN</td>\n",
       "      <td>69.0</td>\n",
       "    </tr>\n",
       "    <tr>\n",
       "      <th>948</th>\n",
       "      <td>2015</td>\n",
       "      <td>Chemistry</td>\n",
       "      <td>The Nobel Prize in Chemistry 2015</td>\n",
       "      <td>\"for mechanistic studies of DNA repair\"</td>\n",
       "      <td>1/3</td>\n",
       "      <td>922</td>\n",
       "      <td>Individual</td>\n",
       "      <td>Paul Modrich</td>\n",
       "      <td>1946-06-13</td>\n",
       "      <td>Raton, NM</td>\n",
       "      <td>United States of America</td>\n",
       "      <td>Male</td>\n",
       "      <td>Duke University School of Medicine</td>\n",
       "      <td>Durham, NC</td>\n",
       "      <td>United States of America</td>\n",
       "      <td>NaN</td>\n",
       "      <td>NaN</td>\n",
       "      <td>NaN</td>\n",
       "      <td>69.0</td>\n",
       "    </tr>\n",
       "  </tbody>\n",
       "</table>\n",
       "<p>128 rows × 19 columns</p>\n",
       "</div>"
      ],
      "text/plain": [
       "     Year   Category                                           Prize  \\\n",
       "19   1903    Physics                 The Nobel Prize in Physics 1903   \n",
       "46   1908   Medicine  The Nobel Prize in Physiology or Medicine 1908   \n",
       "47   1908   Medicine  The Nobel Prize in Physiology or Medicine 1908   \n",
       "63   1911  Chemistry               The Nobel Prize in Chemistry 1911   \n",
       "90   1917      Peace                      The Nobel Peace Prize 1917   \n",
       "..    ...        ...                                             ...   \n",
       "942  2014    Physics                 The Nobel Prize in Physics 2014   \n",
       "945  2015  Chemistry               The Nobel Prize in Chemistry 2015   \n",
       "946  2015  Chemistry               The Nobel Prize in Chemistry 2015   \n",
       "947  2015  Chemistry               The Nobel Prize in Chemistry 2015   \n",
       "948  2015  Chemistry               The Nobel Prize in Chemistry 2015   \n",
       "\n",
       "                                            Motivation Prize Share  \\\n",
       "19   \"in recognition of the extraordinary services ...         1/4   \n",
       "46          \"in recognition of their work on immunity\"         1/2   \n",
       "47          \"in recognition of their work on immunity\"         1/2   \n",
       "63   \"in recognition of her services to the advance...         1/1   \n",
       "90                                                 NaN         1/1   \n",
       "..                                                 ...         ...   \n",
       "942  \"for the invention of efficient blue light-emi...         1/3   \n",
       "945            \"for mechanistic studies of DNA repair\"         1/3   \n",
       "946            \"for mechanistic studies of DNA repair\"         1/3   \n",
       "947            \"for mechanistic studies of DNA repair\"         1/3   \n",
       "948            \"for mechanistic studies of DNA repair\"         1/3   \n",
       "\n",
       "     Laureate ID Laureate Type  \\\n",
       "19             6    Individual   \n",
       "46           302    Individual   \n",
       "47           302    Individual   \n",
       "63             6    Individual   \n",
       "90           482  Organization   \n",
       "..           ...           ...   \n",
       "942          906    Individual   \n",
       "945          921    Individual   \n",
       "946          921    Individual   \n",
       "947          922    Individual   \n",
       "948          922    Individual   \n",
       "\n",
       "                                             Full Name Birth Date  \\\n",
       "19                         Marie Curie, née Sklodowska 1867-11-07   \n",
       "46                                        Paul Ehrlich 1854-03-14   \n",
       "47                                        Paul Ehrlich 1854-03-14   \n",
       "63                         Marie Curie, née Sklodowska 1867-11-07   \n",
       "90   Comité international de la Croix Rouge (Intern...        NaT   \n",
       "..                                                 ...        ...   \n",
       "942                                      Isamu Akasaki 1929-01-30   \n",
       "945                                      Tomas Lindahl 1938-01-28   \n",
       "946                                      Tomas Lindahl 1938-01-28   \n",
       "947                                       Paul Modrich 1946-06-13   \n",
       "948                                       Paul Modrich 1946-06-13   \n",
       "\n",
       "              Birth City             Birth Country     Sex  \\\n",
       "19                Warsaw   Russian Empire (Poland)  Female   \n",
       "46   Strehlen (Strzelin)          Prussia (Poland)    Male   \n",
       "47   Strehlen (Strzelin)          Prussia (Poland)    Male   \n",
       "63                Warsaw   Russian Empire (Poland)  Female   \n",
       "90                   NaN                       NaN     NaN   \n",
       "..                   ...                       ...     ...   \n",
       "942               Chiran                     Japan    Male   \n",
       "945            Stockholm                    Sweden    Male   \n",
       "946            Stockholm                    Sweden    Male   \n",
       "947            Raton, NM  United States of America    Male   \n",
       "948            Raton, NM  United States of America    Male   \n",
       "\n",
       "                                     Organization Name      Organization City  \\\n",
       "19                                                 NaN                    NaN   \n",
       "46                               Goettingen University              Göttingen   \n",
       "47   Königliches Institut für experimentelle Therap...  Frankfurt-on-the-Main   \n",
       "63                                 Sorbonne University                  Paris   \n",
       "90                                                 NaN                    NaN   \n",
       "..                                                 ...                    ...   \n",
       "942                                  Nagoya University                 Nagoya   \n",
       "945                            Francis Crick Institute          Hertfordshire   \n",
       "946                              Clare Hall Laboratory          Hertfordshire   \n",
       "947                    Howard Hughes Medical Institute             Durham, NC   \n",
       "948                 Duke University School of Medicine             Durham, NC   \n",
       "\n",
       "         Organization Country  Death Date                Death City  \\\n",
       "19                        NaN  1934-07-04                Sallanches   \n",
       "46                    Germany  1915-08-20  Bad Homburg vor der Höhe   \n",
       "47                    Germany  1915-08-20  Bad Homburg vor der Höhe   \n",
       "63                     France  1934-07-04                Sallanches   \n",
       "90                        NaN         NaN                       NaN   \n",
       "..                        ...         ...                       ...   \n",
       "942                     Japan         NaN                       NaN   \n",
       "945            United Kingdom         NaN                       NaN   \n",
       "946            United Kingdom         NaN                       NaN   \n",
       "947  United States of America         NaN                       NaN   \n",
       "948  United States of America         NaN                       NaN   \n",
       "\n",
       "    Death Country   Age  \n",
       "19         France  36.0  \n",
       "46        Germany  54.0  \n",
       "47        Germany  54.0  \n",
       "63         France  44.0  \n",
       "90            NaN   NaN  \n",
       "..            ...   ...  \n",
       "942           NaN  85.0  \n",
       "945           NaN  77.0  \n",
       "946           NaN  77.0  \n",
       "947           NaN  69.0  \n",
       "948           NaN  69.0  \n",
       "\n",
       "[128 rows x 19 columns]"
      ]
     },
     "execution_count": 11,
     "metadata": {},
     "output_type": "execute_result"
    }
   ],
   "source": [
    "# Selecting the laureates that have received 2 or more prizes.\n",
    "data.groupby('Full Name').filter(lambda num:len(num)>=2)"
   ]
  },
  {
   "cell_type": "markdown",
   "id": "a2914707",
   "metadata": {},
   "source": [
    "This is shows that there are 19  lucky winners have got the prize twice. "
   ]
  },
  {
   "cell_type": "markdown",
   "id": "9e4e27a1",
   "metadata": {},
   "source": [
    "# How old are they when they get the prize?"
   ]
  },
  {
   "cell_type": "code",
   "execution_count": 12,
   "id": "8bdc348a",
   "metadata": {},
   "outputs": [
    {
     "ename": "TypeError",
     "evalue": "strptime() argument 1 must be str, not Timestamp",
     "output_type": "error",
     "traceback": [
      "\u001b[0;31m---------------------------------------------------------------------------\u001b[0m",
      "\u001b[0;31mTypeError\u001b[0m                                 Traceback (most recent call last)",
      "\u001b[0;32m/var/folders/07/y4gsr9hx6l51zwvd1bh3n9vh0000gn/T/ipykernel_2752/3067180507.py\u001b[0m in \u001b[0;36m<module>\u001b[0;34m\u001b[0m\n\u001b[1;32m     10\u001b[0m \u001b[0;32mfor\u001b[0m \u001b[0mindex\u001b[0m\u001b[0;34m,\u001b[0m \u001b[0mrow\u001b[0m \u001b[0;32min\u001b[0m \u001b[0mdata\u001b[0m\u001b[0;34m.\u001b[0m\u001b[0miterrows\u001b[0m\u001b[0;34m(\u001b[0m\u001b[0;34m)\u001b[0m\u001b[0;34m:\u001b[0m\u001b[0;34m\u001b[0m\u001b[0;34m\u001b[0m\u001b[0m\n\u001b[1;32m     11\u001b[0m     \u001b[0;32mif\u001b[0m \u001b[0;32mnot\u001b[0m \u001b[0mpd\u001b[0m\u001b[0;34m.\u001b[0m\u001b[0misna\u001b[0m\u001b[0;34m(\u001b[0m\u001b[0mrow\u001b[0m\u001b[0;34m[\u001b[0m\u001b[0;34m'Birth Date'\u001b[0m\u001b[0;34m]\u001b[0m\u001b[0;34m)\u001b[0m\u001b[0;34m:\u001b[0m\u001b[0;34m\u001b[0m\u001b[0;34m\u001b[0m\u001b[0m\n\u001b[0;32m---> 12\u001b[0;31m         \u001b[0mbirth_date\u001b[0m \u001b[0;34m=\u001b[0m \u001b[0mdatetime\u001b[0m\u001b[0;34m.\u001b[0m\u001b[0mstrptime\u001b[0m\u001b[0;34m(\u001b[0m\u001b[0mrow\u001b[0m\u001b[0;34m[\u001b[0m\u001b[0;34m'Birth Date'\u001b[0m\u001b[0;34m]\u001b[0m\u001b[0;34m,\u001b[0m \u001b[0;34m'%Y-%m-%d'\u001b[0m\u001b[0;34m)\u001b[0m\u001b[0;34m\u001b[0m\u001b[0;34m\u001b[0m\u001b[0m\n\u001b[0m\u001b[1;32m     13\u001b[0m         \u001b[0maward_date\u001b[0m \u001b[0;34m=\u001b[0m \u001b[0mdatetime\u001b[0m\u001b[0;34m.\u001b[0m\u001b[0mstrptime\u001b[0m\u001b[0;34m(\u001b[0m\u001b[0mstr\u001b[0m\u001b[0;34m(\u001b[0m\u001b[0mrow\u001b[0m\u001b[0;34m[\u001b[0m\u001b[0;34m'Year'\u001b[0m\u001b[0;34m]\u001b[0m\u001b[0;34m)\u001b[0m\u001b[0;34m,\u001b[0m \u001b[0;34m'%Y'\u001b[0m\u001b[0;34m)\u001b[0m\u001b[0;34m\u001b[0m\u001b[0;34m\u001b[0m\u001b[0m\n\u001b[1;32m     14\u001b[0m         \u001b[0;32mif\u001b[0m \u001b[0;32mnot\u001b[0m \u001b[0mpd\u001b[0m\u001b[0;34m.\u001b[0m\u001b[0misna\u001b[0m\u001b[0;34m(\u001b[0m\u001b[0mrow\u001b[0m\u001b[0;34m[\u001b[0m\u001b[0;34m'Death Date'\u001b[0m\u001b[0;34m]\u001b[0m\u001b[0;34m)\u001b[0m\u001b[0;34m:\u001b[0m\u001b[0;34m\u001b[0m\u001b[0;34m\u001b[0m\u001b[0m\n",
      "\u001b[0;31mTypeError\u001b[0m: strptime() argument 1 must be str, not Timestamp"
     ]
    }
   ],
   "source": [
    "from datetime import datetime\n",
    "\n",
    "# calculate the age of each winner at the time of the award\n",
    "# handle invalid birth_date values\n",
    "data.loc[data['Birth Date'] == '1898-00-00', 'Birth Date'] = '1898-01-01'\n",
    "#handle invalid birth_date values\n",
    "data.loc[data['Birth Date'] == '1943-00-00', 'Birth Date'] = '1943-01-01'\n",
    "\n",
    "ages = []\n",
    "for index, row in data.iterrows():\n",
    "    if not pd.isna(row['Birth Date']):\n",
    "        birth_date = datetime.strptime(row['Birth Date'], '%Y-%m-%d')\n",
    "        award_date = datetime.strptime(str(row['Year']), '%Y')\n",
    "        if not pd.isna(row['Death Date']):\n",
    "            death_date = datetime.strptime(row['Death Date'], '%Y-%m-%d')\n",
    "            age = (death_date - birth_date).days / 365.25\n",
    "        else:\n",
    "            age = (award_date - birth_date).days / 365.25\n",
    "        ages.append(age)\n",
    "\n",
    "# print out the average age of winners\n",
    "print('Average age of Nobel Prize winners: {:.2f}'.format(sum(ages) / len(ages)))"
   ]
  },
  {
   "cell_type": "markdown",
   "id": "f80278f8",
   "metadata": {},
   "source": [
    "Let is visualize the age distribution of Nobel Prize winners using seaborn, by creating a histogram using the sns.histplot() function."
   ]
  },
  {
   "cell_type": "code",
   "execution_count": 13,
   "id": "741461a2",
   "metadata": {},
   "outputs": [
    {
     "data": {
      "image/png": "[encoded data removed]",
      "text/plain": [
       "<Figure size 640x480 with 1 Axes>"
      ]
     },
     "metadata": {},
     "output_type": "display_data"
    }
   ],
   "source": [
    "# create a histogram of age distribution using seaborn\n",
    "sns.histplot(data=ages, bins=20, kde=True)\n",
    "\n",
    "# set the title and x-label for the plot\n",
    "plt.title('Age Distribution of Nobel Prize Winners')\n",
    "plt.xlabel('Age at the time of the award')\n",
    "\n",
    "# show the plot\n",
    "plt.show()"
   ]
  },
  {
   "cell_type": "markdown",
   "id": "cdc146b8",
   "metadata": {},
   "source": [
    "# How long Nobel Prize winners lived?\n",
    "We can subtract their birth date from their death date (if it exists) or from the current date (if they are still alive) to get their lifespan."
   ]
  },
  {
   "cell_type": "code",
   "execution_count": 21,
   "id": "e90934ff",
   "metadata": {},
   "outputs": [
    {
     "name": "stdout",
     "output_type": "stream",
     "text": [
      "count    969.000000\n",
      "mean      81.893460\n",
      "std       13.000748\n",
      "min       25.815195\n",
      "25%       74.458590\n",
      "50%       82.277892\n",
      "75%       89.451061\n",
      "max      123.340178\n",
      "Name: lifespan, dtype: float64\n"
     ]
    }
   ],
   "source": [
    "# calculate the lifespan of each winner\n",
    "lifespans = []\n",
    "for index, row in data.iterrows():\n",
    "    birth_date_str = str(row['Birth Date']).replace('nan', '1900-01-01')\n",
    "    birth_date = datetime.strptime(birth_date_str, '%Y-%m-%d')\n",
    "    if pd.notnull(row['Death Date']):\n",
    "        death_date = datetime.strptime(str(row['Death Date']), '%Y-%m-%d')\n",
    "        lifespan = (death_date - birth_date).days / 365.25\n",
    "    else:\n",
    "        lifespan = (datetime.now() - birth_date).days / 365.25\n",
    "    lifespans.append(lifespan)\n",
    "\n",
    "# add the lifespan column to the dataframe\n",
    "data['lifespan'] = lifespans\n",
    "\n",
    "# print the lifespan statistics\n",
    "print(data['lifespan'].describe())"
   ]
  },
  {
   "cell_type": "code",
   "execution_count": 22,
   "id": "c5c6f6c1",
   "metadata": {},
   "outputs": [
    {
     "data": {
      "text/html": [
       "<div>\n",
       "<style scoped>\n",
       "    .dataframe tbody tr th:only-of-type {\n",
       "        vertical-align: middle;\n",
       "    }\n",
       "\n",
       "    .dataframe tbody tr th {\n",
       "        vertical-align: top;\n",
       "    }\n",
       "\n",
       "    .dataframe thead th {\n",
       "        text-align: right;\n",
       "    }\n",
       "</style>\n",
       "<table border=\"1\" class=\"dataframe\">\n",
       "  <thead>\n",
       "    <tr style=\"text-align: right;\">\n",
       "      <th></th>\n",
       "      <th>Year</th>\n",
       "      <th>Category</th>\n",
       "      <th>Prize</th>\n",
       "      <th>Motivation</th>\n",
       "      <th>Prize Share</th>\n",
       "      <th>Laureate ID</th>\n",
       "      <th>Laureate Type</th>\n",
       "      <th>Full Name</th>\n",
       "      <th>Birth Date</th>\n",
       "      <th>Birth City</th>\n",
       "      <th>Birth Country</th>\n",
       "      <th>Sex</th>\n",
       "      <th>Organization Name</th>\n",
       "      <th>Organization City</th>\n",
       "      <th>Organization Country</th>\n",
       "      <th>Death Date</th>\n",
       "      <th>Death City</th>\n",
       "      <th>Death Country</th>\n",
       "      <th>female_winner</th>\n",
       "      <th>lifespan</th>\n",
       "    </tr>\n",
       "  </thead>\n",
       "  <tbody>\n",
       "    <tr>\n",
       "      <th>0</th>\n",
       "      <td>1901</td>\n",
       "      <td>Chemistry</td>\n",
       "      <td>The Nobel Prize in Chemistry 1901</td>\n",
       "      <td>\"in recognition of the extraordinary services ...</td>\n",
       "      <td>1/1</td>\n",
       "      <td>160</td>\n",
       "      <td>Individual</td>\n",
       "      <td>Jacobus Henricus van 't Hoff</td>\n",
       "      <td>1852-08-30</td>\n",
       "      <td>Rotterdam</td>\n",
       "      <td>Netherlands</td>\n",
       "      <td>Male</td>\n",
       "      <td>Berlin University</td>\n",
       "      <td>Berlin</td>\n",
       "      <td>Germany</td>\n",
       "      <td>1911-03-01</td>\n",
       "      <td>Berlin</td>\n",
       "      <td>Germany</td>\n",
       "      <td>False</td>\n",
       "      <td>58.496920</td>\n",
       "    </tr>\n",
       "    <tr>\n",
       "      <th>1</th>\n",
       "      <td>1901</td>\n",
       "      <td>Literature</td>\n",
       "      <td>The Nobel Prize in Literature 1901</td>\n",
       "      <td>\"in special recognition of his poetic composit...</td>\n",
       "      <td>1/1</td>\n",
       "      <td>569</td>\n",
       "      <td>Individual</td>\n",
       "      <td>Sully Prudhomme</td>\n",
       "      <td>1839-03-16</td>\n",
       "      <td>Paris</td>\n",
       "      <td>France</td>\n",
       "      <td>Male</td>\n",
       "      <td>NaN</td>\n",
       "      <td>NaN</td>\n",
       "      <td>NaN</td>\n",
       "      <td>1907-09-07</td>\n",
       "      <td>Châtenay</td>\n",
       "      <td>France</td>\n",
       "      <td>False</td>\n",
       "      <td>68.476386</td>\n",
       "    </tr>\n",
       "    <tr>\n",
       "      <th>2</th>\n",
       "      <td>1901</td>\n",
       "      <td>Medicine</td>\n",
       "      <td>The Nobel Prize in Physiology or Medicine 1901</td>\n",
       "      <td>\"for his work on serum therapy, especially its...</td>\n",
       "      <td>1/1</td>\n",
       "      <td>293</td>\n",
       "      <td>Individual</td>\n",
       "      <td>Emil Adolf von Behring</td>\n",
       "      <td>1854-03-15</td>\n",
       "      <td>Hansdorf (Lawice)</td>\n",
       "      <td>Prussia (Poland)</td>\n",
       "      <td>Male</td>\n",
       "      <td>Marburg University</td>\n",
       "      <td>Marburg</td>\n",
       "      <td>Germany</td>\n",
       "      <td>1917-03-31</td>\n",
       "      <td>Marburg</td>\n",
       "      <td>Germany</td>\n",
       "      <td>False</td>\n",
       "      <td>63.041752</td>\n",
       "    </tr>\n",
       "    <tr>\n",
       "      <th>3</th>\n",
       "      <td>1901</td>\n",
       "      <td>Peace</td>\n",
       "      <td>The Nobel Peace Prize 1901</td>\n",
       "      <td>NaN</td>\n",
       "      <td>1/2</td>\n",
       "      <td>462</td>\n",
       "      <td>Individual</td>\n",
       "      <td>Jean Henry Dunant</td>\n",
       "      <td>1828-05-08</td>\n",
       "      <td>Geneva</td>\n",
       "      <td>Switzerland</td>\n",
       "      <td>Male</td>\n",
       "      <td>NaN</td>\n",
       "      <td>NaN</td>\n",
       "      <td>NaN</td>\n",
       "      <td>1910-10-30</td>\n",
       "      <td>Heiden</td>\n",
       "      <td>Switzerland</td>\n",
       "      <td>False</td>\n",
       "      <td>82.475017</td>\n",
       "    </tr>\n",
       "    <tr>\n",
       "      <th>4</th>\n",
       "      <td>1901</td>\n",
       "      <td>Peace</td>\n",
       "      <td>The Nobel Peace Prize 1901</td>\n",
       "      <td>NaN</td>\n",
       "      <td>1/2</td>\n",
       "      <td>463</td>\n",
       "      <td>Individual</td>\n",
       "      <td>Frédéric Passy</td>\n",
       "      <td>1822-05-20</td>\n",
       "      <td>Paris</td>\n",
       "      <td>France</td>\n",
       "      <td>Male</td>\n",
       "      <td>NaN</td>\n",
       "      <td>NaN</td>\n",
       "      <td>NaN</td>\n",
       "      <td>1912-06-12</td>\n",
       "      <td>Paris</td>\n",
       "      <td>France</td>\n",
       "      <td>False</td>\n",
       "      <td>90.061602</td>\n",
       "    </tr>\n",
       "    <tr>\n",
       "      <th>...</th>\n",
       "      <td>...</td>\n",
       "      <td>...</td>\n",
       "      <td>...</td>\n",
       "      <td>...</td>\n",
       "      <td>...</td>\n",
       "      <td>...</td>\n",
       "      <td>...</td>\n",
       "      <td>...</td>\n",
       "      <td>...</td>\n",
       "      <td>...</td>\n",
       "      <td>...</td>\n",
       "      <td>...</td>\n",
       "      <td>...</td>\n",
       "      <td>...</td>\n",
       "      <td>...</td>\n",
       "      <td>...</td>\n",
       "      <td>...</td>\n",
       "      <td>...</td>\n",
       "      <td>...</td>\n",
       "      <td>...</td>\n",
       "    </tr>\n",
       "    <tr>\n",
       "      <th>964</th>\n",
       "      <td>2016</td>\n",
       "      <td>Medicine</td>\n",
       "      <td>The Nobel Prize in Physiology or Medicine 2016</td>\n",
       "      <td>\"for his discoveries of mechanisms for autophagy\"</td>\n",
       "      <td>1/1</td>\n",
       "      <td>927</td>\n",
       "      <td>Individual</td>\n",
       "      <td>Yoshinori Ohsumi</td>\n",
       "      <td>1945-02-09</td>\n",
       "      <td>Fukuoka</td>\n",
       "      <td>Japan</td>\n",
       "      <td>Male</td>\n",
       "      <td>Tokyo Institute of Technology</td>\n",
       "      <td>Tokyo</td>\n",
       "      <td>Japan</td>\n",
       "      <td>NaN</td>\n",
       "      <td>NaN</td>\n",
       "      <td>NaN</td>\n",
       "      <td>False</td>\n",
       "      <td>78.234086</td>\n",
       "    </tr>\n",
       "    <tr>\n",
       "      <th>965</th>\n",
       "      <td>2016</td>\n",
       "      <td>Peace</td>\n",
       "      <td>The Nobel Peace Prize 2016</td>\n",
       "      <td>\"for his resolute efforts to bring the country...</td>\n",
       "      <td>1/1</td>\n",
       "      <td>934</td>\n",
       "      <td>Individual</td>\n",
       "      <td>Juan Manuel Santos</td>\n",
       "      <td>1951-08-10</td>\n",
       "      <td>Bogotá</td>\n",
       "      <td>Colombia</td>\n",
       "      <td>Male</td>\n",
       "      <td>NaN</td>\n",
       "      <td>NaN</td>\n",
       "      <td>NaN</td>\n",
       "      <td>NaN</td>\n",
       "      <td>NaN</td>\n",
       "      <td>NaN</td>\n",
       "      <td>False</td>\n",
       "      <td>71.737166</td>\n",
       "    </tr>\n",
       "    <tr>\n",
       "      <th>966</th>\n",
       "      <td>2016</td>\n",
       "      <td>Physics</td>\n",
       "      <td>The Nobel Prize in Physics 2016</td>\n",
       "      <td>\"for theoretical discoveries of topological ph...</td>\n",
       "      <td>1/2</td>\n",
       "      <td>928</td>\n",
       "      <td>Individual</td>\n",
       "      <td>David J. Thouless</td>\n",
       "      <td>1934-09-21</td>\n",
       "      <td>Bearsden</td>\n",
       "      <td>United Kingdom</td>\n",
       "      <td>Male</td>\n",
       "      <td>University of Washington</td>\n",
       "      <td>Seattle, WA</td>\n",
       "      <td>United States of America</td>\n",
       "      <td>NaN</td>\n",
       "      <td>NaN</td>\n",
       "      <td>NaN</td>\n",
       "      <td>False</td>\n",
       "      <td>88.621492</td>\n",
       "    </tr>\n",
       "    <tr>\n",
       "      <th>967</th>\n",
       "      <td>2016</td>\n",
       "      <td>Physics</td>\n",
       "      <td>The Nobel Prize in Physics 2016</td>\n",
       "      <td>\"for theoretical discoveries of topological ph...</td>\n",
       "      <td>1/4</td>\n",
       "      <td>929</td>\n",
       "      <td>Individual</td>\n",
       "      <td>F. Duncan M. Haldane</td>\n",
       "      <td>1951-09-14</td>\n",
       "      <td>London</td>\n",
       "      <td>United Kingdom</td>\n",
       "      <td>Male</td>\n",
       "      <td>Princeton University</td>\n",
       "      <td>Princeton, NJ</td>\n",
       "      <td>United States of America</td>\n",
       "      <td>NaN</td>\n",
       "      <td>NaN</td>\n",
       "      <td>NaN</td>\n",
       "      <td>False</td>\n",
       "      <td>71.641342</td>\n",
       "    </tr>\n",
       "    <tr>\n",
       "      <th>968</th>\n",
       "      <td>2016</td>\n",
       "      <td>Physics</td>\n",
       "      <td>The Nobel Prize in Physics 2016</td>\n",
       "      <td>\"for theoretical discoveries of topological ph...</td>\n",
       "      <td>1/4</td>\n",
       "      <td>930</td>\n",
       "      <td>Individual</td>\n",
       "      <td>J. Michael Kosterlitz</td>\n",
       "      <td>1943-06-22</td>\n",
       "      <td>Aberdeen</td>\n",
       "      <td>United Kingdom</td>\n",
       "      <td>Male</td>\n",
       "      <td>Brown University</td>\n",
       "      <td>Providence, RI</td>\n",
       "      <td>United States of America</td>\n",
       "      <td>NaN</td>\n",
       "      <td>NaN</td>\n",
       "      <td>NaN</td>\n",
       "      <td>False</td>\n",
       "      <td>79.871321</td>\n",
       "    </tr>\n",
       "  </tbody>\n",
       "</table>\n",
       "<p>969 rows × 20 columns</p>\n",
       "</div>"
      ],
      "text/plain": [
       "     Year    Category                                           Prize  \\\n",
       "0    1901   Chemistry               The Nobel Prize in Chemistry 1901   \n",
       "1    1901  Literature              The Nobel Prize in Literature 1901   \n",
       "2    1901    Medicine  The Nobel Prize in Physiology or Medicine 1901   \n",
       "3    1901       Peace                      The Nobel Peace Prize 1901   \n",
       "4    1901       Peace                      The Nobel Peace Prize 1901   \n",
       "..    ...         ...                                             ...   \n",
       "964  2016    Medicine  The Nobel Prize in Physiology or Medicine 2016   \n",
       "965  2016       Peace                      The Nobel Peace Prize 2016   \n",
       "966  2016     Physics                 The Nobel Prize in Physics 2016   \n",
       "967  2016     Physics                 The Nobel Prize in Physics 2016   \n",
       "968  2016     Physics                 The Nobel Prize in Physics 2016   \n",
       "\n",
       "                                            Motivation Prize Share  \\\n",
       "0    \"in recognition of the extraordinary services ...         1/1   \n",
       "1    \"in special recognition of his poetic composit...         1/1   \n",
       "2    \"for his work on serum therapy, especially its...         1/1   \n",
       "3                                                  NaN         1/2   \n",
       "4                                                  NaN         1/2   \n",
       "..                                                 ...         ...   \n",
       "964  \"for his discoveries of mechanisms for autophagy\"         1/1   \n",
       "965  \"for his resolute efforts to bring the country...         1/1   \n",
       "966  \"for theoretical discoveries of topological ph...         1/2   \n",
       "967  \"for theoretical discoveries of topological ph...         1/4   \n",
       "968  \"for theoretical discoveries of topological ph...         1/4   \n",
       "\n",
       "     Laureate ID Laureate Type                     Full Name  Birth Date  \\\n",
       "0            160    Individual  Jacobus Henricus van 't Hoff  1852-08-30   \n",
       "1            569    Individual               Sully Prudhomme  1839-03-16   \n",
       "2            293    Individual        Emil Adolf von Behring  1854-03-15   \n",
       "3            462    Individual             Jean Henry Dunant  1828-05-08   \n",
       "4            463    Individual                Frédéric Passy  1822-05-20   \n",
       "..           ...           ...                           ...         ...   \n",
       "964          927    Individual              Yoshinori Ohsumi  1945-02-09   \n",
       "965          934    Individual            Juan Manuel Santos  1951-08-10   \n",
       "966          928    Individual             David J. Thouless  1934-09-21   \n",
       "967          929    Individual          F. Duncan M. Haldane  1951-09-14   \n",
       "968          930    Individual         J. Michael Kosterlitz  1943-06-22   \n",
       "\n",
       "            Birth City     Birth Country   Sex              Organization Name  \\\n",
       "0            Rotterdam       Netherlands  Male              Berlin University   \n",
       "1                Paris            France  Male                            NaN   \n",
       "2    Hansdorf (Lawice)  Prussia (Poland)  Male             Marburg University   \n",
       "3               Geneva       Switzerland  Male                            NaN   \n",
       "4                Paris            France  Male                            NaN   \n",
       "..                 ...               ...   ...                            ...   \n",
       "964            Fukuoka             Japan  Male  Tokyo Institute of Technology   \n",
       "965             Bogotá          Colombia  Male                            NaN   \n",
       "966           Bearsden    United Kingdom  Male       University of Washington   \n",
       "967             London    United Kingdom  Male           Princeton University   \n",
       "968           Aberdeen    United Kingdom  Male               Brown University   \n",
       "\n",
       "    Organization City      Organization Country  Death Date Death City  \\\n",
       "0              Berlin                   Germany  1911-03-01     Berlin   \n",
       "1                 NaN                       NaN  1907-09-07   Châtenay   \n",
       "2             Marburg                   Germany  1917-03-31    Marburg   \n",
       "3                 NaN                       NaN  1910-10-30     Heiden   \n",
       "4                 NaN                       NaN  1912-06-12      Paris   \n",
       "..                ...                       ...         ...        ...   \n",
       "964             Tokyo                     Japan         NaN        NaN   \n",
       "965               NaN                       NaN         NaN        NaN   \n",
       "966       Seattle, WA  United States of America         NaN        NaN   \n",
       "967     Princeton, NJ  United States of America         NaN        NaN   \n",
       "968    Providence, RI  United States of America         NaN        NaN   \n",
       "\n",
       "    Death Country  female_winner   lifespan  \n",
       "0         Germany          False  58.496920  \n",
       "1          France          False  68.476386  \n",
       "2         Germany          False  63.041752  \n",
       "3     Switzerland          False  82.475017  \n",
       "4          France          False  90.061602  \n",
       "..            ...            ...        ...  \n",
       "964           NaN          False  78.234086  \n",
       "965           NaN          False  71.737166  \n",
       "966           NaN          False  88.621492  \n",
       "967           NaN          False  71.641342  \n",
       "968           NaN          False  79.871321  \n",
       "\n",
       "[969 rows x 20 columns]"
      ]
     },
     "execution_count": 22,
     "metadata": {},
     "output_type": "execute_result"
    }
   ],
   "source": [
    "# check the lifespan column added to the dataframe using df['lifespan'] = lifespans.\n",
    "data"
   ]
  },
  {
   "cell_type": "code",
   "execution_count": 23,
   "id": "913b561d",
   "metadata": {},
   "outputs": [
    {
     "data": {
      "image/png": "[encoded data removed]",
      "text/plain": [
       "<Figure size 640x480 with 1 Axes>"
      ]
     },
     "metadata": {},
     "output_type": "display_data"
    }
   ],
   "source": [
    "# create a histogram of lifespan distribution using matplotlib\n",
    "plt.hist(lifespans, bins=20)\n",
    "\n",
    "# set the title and x-label for the plot\n",
    "plt.title('Lifespan Distribution of Nobel Prize Winners')\n",
    "plt.xlabel('Lifespan (years)')\n",
    "\n",
    "# show the plot\n",
    "plt.show()"
   ]
  },
  {
   "cell_type": "markdown",
   "id": "9b48ba0b",
   "metadata": {},
   "source": [
    "<b>This histogram shows the lifespan of Nobel Prize winners, majority of the winners between 72 to 82 years.</b> "
   ]
  },
  {
   "cell_type": "markdown",
   "id": "a43116b2",
   "metadata": {},
   "source": [
    "# Age of Nobel winners over year\n",
    "Let is see the relationship between the age of Nobel Prize winners and the year they won the prize."
   ]
  },
  {
   "cell_type": "code",
   "execution_count": 7,
   "id": "632951bd",
   "metadata": {},
   "outputs": [
    {
     "data": {
      "text/plain": [
       "<Figure size 1000x600 with 0 Axes>"
      ]
     },
     "metadata": {},
     "output_type": "display_data"
    },
    {
     "data": {
      "image/png": "[encoded data removed]",
      "text/plain": [
       "<Figure size 1000x500 with 1 Axes>"
      ]
     },
     "metadata": {},
     "output_type": "display_data"
    }
   ],
   "source": [
    "import matplotlib.pyplot as plt\n",
    "import seaborn as sns\n",
    "\n",
    "# Converting birth_date from String to datetime\n",
    "data['Birth Date'] = pd.to_datetime(data['Birth Date'], format='%Y-%m-%d', errors='coerce')\n",
    "\n",
    "# Calculating the age of winners\n",
    "data['Age'] = data['Year'] - (data['Birth Date'].dt.year)\n",
    "\n",
    "# Plotting the age of Nobel Prize winners\n",
    "plt.figure(figsize=(10, 6))\n",
    "sns.set_style('darkgrid')\n",
    "sns.lmplot(x='Year', y='Age', data=data, aspect=2, line_kws={'color': 'red'})\n",
    "plt.title('Age of Nobel Prize Winners over Time', fontsize=16)\n",
    "plt.xlabel('Year', fontsize=14)\n",
    "plt.ylabel('Age', fontsize=14)\n",
    "#remove any unnecessary whitespace in the plot.\n",
    "plt.tight_layout()\n",
    "#show the result\n",
    "plt.show()"
   ]
  },
  {
   "cell_type": "markdown",
   "id": "c05d23e8",
   "metadata": {},
   "source": [
    "The age of Nobel Prize winners has undergone some changes over the years. In the early 19th century, winners were generally younger than they are now. However, in recent times, the trend has shifted, with winners now receiving the prize at an older age, typically in their mid-60s."
   ]
  },
  {
   "cell_type": "markdown",
   "id": "38a05825",
   "metadata": {},
   "source": [
    "# Age differences between prize categories"
   ]
  },
  {
   "cell_type": "code",
   "execution_count": 29,
   "id": "3cd70757",
   "metadata": {},
   "outputs": [
    {
     "data": {
      "text/plain": [
       "<AxesSubplot:xlabel='Category', ylabel='age_at_award'>"
      ]
     },
     "execution_count": 29,
     "metadata": {},
     "output_type": "execute_result"
    },
    {
     "data": {
      "image/png": "[encoded data removed]",
      "text/plain": [
       "<Figure size 640x480 with 1 Axes>"
      ]
     },
     "metadata": {},
     "output_type": "display_data"
    }
   ],
   "source": [
    "# convert birth_date column to datetime object\n",
    "data['Birth Date'] = pd.to_datetime(data['Birth Date'])\n",
    "\n",
    "# extract the year from the birth_date column and store it as a new column\n",
    "data['Birth_year'] = data['Birth Date'].dt.year\n",
    "\n",
    "# calculate the age of each winner at the time they received the prize\n",
    "data['age_at_award'] = data['Year'] - data['Birth_year']\n",
    "\n",
    "# create a box plot of age differences by prize category\n",
    "sns.boxplot(x='Category', y='age_at_award', data=data)\n"
   ]
  },
  {
   "cell_type": "markdown",
   "id": "56b8a4da",
   "metadata": {},
   "source": [
    "The box plot shows the age differences across different prize categories of each Nobel Prize winners "
   ]
  },
  {
   "cell_type": "markdown",
   "id": "bcfe80bc",
   "metadata": {},
   "source": [
    "# Oldest and youngest winners"
   ]
  },
  {
   "cell_type": "code",
   "execution_count": 30,
   "id": "e2c2734a",
   "metadata": {},
   "outputs": [
    {
     "data": {
      "text/html": [
       "<div>\n",
       "<style scoped>\n",
       "    .dataframe tbody tr th:only-of-type {\n",
       "        vertical-align: middle;\n",
       "    }\n",
       "\n",
       "    .dataframe tbody tr th {\n",
       "        vertical-align: top;\n",
       "    }\n",
       "\n",
       "    .dataframe thead th {\n",
       "        text-align: right;\n",
       "    }\n",
       "</style>\n",
       "<table border=\"1\" class=\"dataframe\">\n",
       "  <thead>\n",
       "    <tr style=\"text-align: right;\">\n",
       "      <th></th>\n",
       "      <th>Year</th>\n",
       "      <th>Category</th>\n",
       "      <th>Prize</th>\n",
       "      <th>Motivation</th>\n",
       "      <th>Prize Share</th>\n",
       "      <th>Laureate ID</th>\n",
       "      <th>Laureate Type</th>\n",
       "      <th>Full Name</th>\n",
       "      <th>Birth Date</th>\n",
       "      <th>Birth City</th>\n",
       "      <th>...</th>\n",
       "      <th>Organization City</th>\n",
       "      <th>Organization Country</th>\n",
       "      <th>Death Date</th>\n",
       "      <th>Death City</th>\n",
       "      <th>Death Country</th>\n",
       "      <th>female_winner</th>\n",
       "      <th>lifespan</th>\n",
       "      <th>Birth_year</th>\n",
       "      <th>age_at_award</th>\n",
       "      <th>Age</th>\n",
       "    </tr>\n",
       "  </thead>\n",
       "  <tbody>\n",
       "    <tr>\n",
       "      <th>825</th>\n",
       "      <td>2007</td>\n",
       "      <td>Economics</td>\n",
       "      <td>The Sveriges Riksbank Prize in Economic Scienc...</td>\n",
       "      <td>\"for having laid the foundations of mechanism ...</td>\n",
       "      <td>1/3</td>\n",
       "      <td>820</td>\n",
       "      <td>Individual</td>\n",
       "      <td>Leonid Hurwicz</td>\n",
       "      <td>1917-08-21</td>\n",
       "      <td>Moscow</td>\n",
       "      <td>...</td>\n",
       "      <td>Minneapolis, MN</td>\n",
       "      <td>United States of America</td>\n",
       "      <td>2008-06-24</td>\n",
       "      <td>Minneapolis, MN</td>\n",
       "      <td>United States of America</td>\n",
       "      <td>False</td>\n",
       "      <td>90.841889</td>\n",
       "      <td>1917.0</td>\n",
       "      <td>90.0</td>\n",
       "      <td>90.0</td>\n",
       "    </tr>\n",
       "  </tbody>\n",
       "</table>\n",
       "<p>1 rows × 23 columns</p>\n",
       "</div>"
      ],
      "text/plain": [
       "     Year   Category                                              Prize  \\\n",
       "825  2007  Economics  The Sveriges Riksbank Prize in Economic Scienc...   \n",
       "\n",
       "                                            Motivation Prize Share  \\\n",
       "825  \"for having laid the foundations of mechanism ...         1/3   \n",
       "\n",
       "     Laureate ID Laureate Type       Full Name Birth Date Birth City  ...  \\\n",
       "825          820    Individual  Leonid Hurwicz 1917-08-21     Moscow  ...   \n",
       "\n",
       "    Organization City      Organization Country  Death Date       Death City  \\\n",
       "825   Minneapolis, MN  United States of America  2008-06-24  Minneapolis, MN   \n",
       "\n",
       "                Death Country female_winner   lifespan Birth_year  \\\n",
       "825  United States of America         False  90.841889     1917.0   \n",
       "\n",
       "     age_at_award   Age  \n",
       "825          90.0  90.0  \n",
       "\n",
       "[1 rows x 23 columns]"
      ]
     },
     "metadata": {},
     "output_type": "display_data"
    }
   ],
   "source": [
    "# The oldest winner of a Nobel Prize \n",
    "display(data.nlargest(1,'Age'))"
   ]
  },
  {
   "cell_type": "markdown",
   "id": "6f119694",
   "metadata": {},
   "source": [
    "The oldest winner of Nobel was in Economics at 90, when she recieved the Prize. That is why Leonid Hurwicz is the oldest winner among 969."
   ]
  },
  {
   "cell_type": "code",
   "execution_count": 31,
   "id": "9e915016",
   "metadata": {},
   "outputs": [
    {
     "data": {
      "text/html": [
       "<div>\n",
       "<style scoped>\n",
       "    .dataframe tbody tr th:only-of-type {\n",
       "        vertical-align: middle;\n",
       "    }\n",
       "\n",
       "    .dataframe tbody tr th {\n",
       "        vertical-align: top;\n",
       "    }\n",
       "\n",
       "    .dataframe thead th {\n",
       "        text-align: right;\n",
       "    }\n",
       "</style>\n",
       "<table border=\"1\" class=\"dataframe\">\n",
       "  <thead>\n",
       "    <tr style=\"text-align: right;\">\n",
       "      <th></th>\n",
       "      <th>Year</th>\n",
       "      <th>Category</th>\n",
       "      <th>Prize</th>\n",
       "      <th>Motivation</th>\n",
       "      <th>Prize Share</th>\n",
       "      <th>Laureate ID</th>\n",
       "      <th>Laureate Type</th>\n",
       "      <th>Full Name</th>\n",
       "      <th>Birth Date</th>\n",
       "      <th>Birth City</th>\n",
       "      <th>...</th>\n",
       "      <th>Organization City</th>\n",
       "      <th>Organization Country</th>\n",
       "      <th>Death Date</th>\n",
       "      <th>Death City</th>\n",
       "      <th>Death Country</th>\n",
       "      <th>female_winner</th>\n",
       "      <th>lifespan</th>\n",
       "      <th>Birth_year</th>\n",
       "      <th>age_at_award</th>\n",
       "      <th>Age</th>\n",
       "    </tr>\n",
       "  </thead>\n",
       "  <tbody>\n",
       "    <tr>\n",
       "      <th>940</th>\n",
       "      <td>2014</td>\n",
       "      <td>Peace</td>\n",
       "      <td>The Nobel Peace Prize 2014</td>\n",
       "      <td>\"for their struggle against the suppression of...</td>\n",
       "      <td>1/2</td>\n",
       "      <td>914</td>\n",
       "      <td>Individual</td>\n",
       "      <td>Malala Yousafzai</td>\n",
       "      <td>1997-07-12</td>\n",
       "      <td>Mingora</td>\n",
       "      <td>...</td>\n",
       "      <td>NaN</td>\n",
       "      <td>NaN</td>\n",
       "      <td>NaN</td>\n",
       "      <td>NaN</td>\n",
       "      <td>NaN</td>\n",
       "      <td>True</td>\n",
       "      <td>25.815195</td>\n",
       "      <td>1997.0</td>\n",
       "      <td>17.0</td>\n",
       "      <td>17.0</td>\n",
       "    </tr>\n",
       "  </tbody>\n",
       "</table>\n",
       "<p>1 rows × 23 columns</p>\n",
       "</div>"
      ],
      "text/plain": [
       "     Year Category                       Prize  \\\n",
       "940  2014    Peace  The Nobel Peace Prize 2014   \n",
       "\n",
       "                                            Motivation Prize Share  \\\n",
       "940  \"for their struggle against the suppression of...         1/2   \n",
       "\n",
       "     Laureate ID Laureate Type         Full Name Birth Date Birth City  ...  \\\n",
       "940          914    Individual  Malala Yousafzai 1997-07-12    Mingora  ...   \n",
       "\n",
       "    Organization City Organization Country Death Date Death City  \\\n",
       "940               NaN                  NaN        NaN        NaN   \n",
       "\n",
       "    Death Country female_winner   lifespan Birth_year  age_at_award   Age  \n",
       "940           NaN          True  25.815195     1997.0          17.0  17.0  \n",
       "\n",
       "[1 rows x 23 columns]"
      ]
     },
     "metadata": {},
     "output_type": "display_data"
    }
   ],
   "source": [
    "# The youngest winner of a Nobel Prize as of 2016\n",
    "display(data.nsmallest(1,'Age'))"
   ]
  },
  {
   "cell_type": "markdown",
   "id": "d37c03f5",
   "metadata": {},
   "source": [
    "And the youngest winner was awarded in Peasce to Malala Yousafzai, she was only 17 years old in 2014."
   ]
  }
 ],
 "metadata": {
  "kernelspec": {
   "display_name": "Python 3 (ipykernel)",
   "language": "python",
   "name": "python3"
  },
  "language_info": {
   "codemirror_mode": {
    "name": "ipython",
    "version": 3
   },
   "file_extension": ".py",
   "mimetype": "text/x-python",
   "name": "python",
   "nbconvert_exporter": "python",
   "pygments_lexer": "ipython3",
   "version": "3.9.13"
  }
 },
 "nbformat": 4,
 "nbformat_minor": 5
}
